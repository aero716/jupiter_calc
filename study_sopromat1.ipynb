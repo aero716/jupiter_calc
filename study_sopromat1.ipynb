{
 "nbformat": 4,
 "nbformat_minor": 2,
 "metadata": {
  "language_info": {
   "name": "python",
   "codemirror_mode": {
    "name": "ipython",
    "version": 3
   },
   "version": "3.7.3"
  },
  "orig_nbformat": 2,
  "file_extension": ".py",
  "mimetype": "text/x-python",
  "name": "python",
  "npconvert_exporter": "python",
  "pygments_lexer": "ipython3",
  "version": 3
 },
 "cells": [
  {
   "cell_type": "code",
   "metadata": {},
   "outputs": [],
   "source": [
    "from cmath import *\n",
    "import matplotlib.pyplot as plt\n",
    "from IPython.display import SVG\n",
    "import numpy as np"
   ]
  },
  {
   "cell_type": "markdown",
   "metadata": {},
   "outputs": [],
   "source": [
    "<h1 align=\"center\"> Задача №1. Осевое растяжение-сжатие </h1>"
   ]
  },
  {
   "cell_type": "markdown",
   "metadata": {},
   "outputs": [],
   "source": [
    "Расчёт выполнен в программе Jupiter Notebook. Язык программирования Python 3."
   ]
  },
  {
   "cell_type": "markdown",
   "metadata": {},
   "outputs": [],
   "source": [
    "<h2> 1. Исходные данные </h2>"
   ]
  },
  {
   "cell_type": "markdown",
   "metadata": {},
   "outputs": [],
   "source": [
    "<h3> Вариант №21 </h3>\n",
    "<h3> Тимофеев М.В., ПГС-17 </h3>"
   ]
  },
  {
   "cell_type": "code",
   "metadata": {},
   "outputs": [],
   "source": [
    "# Отображение расчётной схемы\n",
    "def show_svg(file_name):\n",
    "    return SVG(filename=file_name)\n",
    "show_svg('jupiter_calc/Scheme_1.svg')"
   ]
  },
  {
   "cell_type": "code",
   "metadata": {},
   "outputs": [],
   "source": [
    "F1 = -120.e3  # Н\n",
    "F2 = -80.e3  # Н\n",
    "F3 = -150.e3  # Н\n",
    "a = 1.  # м\n",
    "l_1 = 2.*a\n",
    "l_2 = 1.*a\n",
    "l_3 = 1.*a\n",
    "q = 20.e3  # Н/м\n",
    "# Материал: бетон\n",
    "Rc = 12.e6  # Па\n",
    "Rt = 0.9e6  # Па\n",
    "E = 15.e9  # Па"
   ]
  },
  {
   "cell_type": "markdown",
   "metadata": {},
   "outputs": [],
   "source": [
    "<h2> 2. Построение эпюры N </h2>"
   ]
  },
  {
   "cell_type": "markdown",
   "metadata": {},
   "outputs": [],
   "source": [
    "Продольное усилие на Участке №1 (начало и конец):"
   ]
  },
  {
   "cell_type": "code",
   "metadata": {},
   "outputs": [],
   "source": [
    "N_1 = [0, 0]\n",
    "N_1[0] = F1\n",
    "N_1[1] = N_1[0] + q*l_1\n",
    "N_1  "
   ]
  },
  {
   "cell_type": "markdown",
   "metadata": {},
   "outputs": [],
   "source": [
    "Продольное усилие на Участке №2 (начало и конец):"
   ]
  },
  {
   "cell_type": "code",
   "metadata": {},
   "outputs": [],
   "source": [
    "N_2 = [0, 0]\n",
    "N_2[0] = N_1[1] + F2\n",
    "N_2[1] = N_2[0]\n",
    "N_2"
   ]
  },
  {
   "cell_type": "markdown",
   "metadata": {},
   "outputs": [],
   "source": [
    "Продольное усилие на Участке №3 (начало и конец):"
   ]
  },
  {
   "cell_type": "code",
   "metadata": {},
   "outputs": [],
   "source": [
    "N_3 = [0, 0]\n",
    "N_3[0] = N_2[1] + F3\n",
    "N_3[1] = N_3[0]\n",
    "N_3"
   ]
  },
  {
   "cell_type": "markdown",
   "metadata": {},
   "outputs": [],
   "source": [
    "Эпюра продольных усилий:"
   ]
  },
  {
   "cell_type": "code",
   "metadata": {},
   "outputs": [],
   "source": [
    "# Построение эпюры N\n",
    "y = [0, 0, 1, 1, 2, 2, 4, 4]\n",
    "x = [0, N_3[1],N_3[0], N_2[1], N_2[0], N_1[1], N_1[0], 0]\n",
    "x = [abs(el) for el in x]\n",
    "\n",
    "fig, ax = plt.subplots()\n",
    "fig.set_figwidth(6)\n",
    "fig.set_figheight(12)\n",
    "ax.plot(x, y, linestyle = '-', linewidth = 2, color = 'black')\n",
    "\n",
    "box_2 = {'facecolor':'white',\n",
    "         'edgecolor': 'black',\n",
    "         'boxstyle': 'circle',\n",
    "         'linestyle': '-',     #  начертание линии\n",
    "         'linewidth': '3'}     #  толщина линии\n",
    "\n",
    "ax.text(30000, 2, '-',\n",
    "        bbox = box_2,\n",
    "        horizontalalignment = 'center',    #  горизонтальное выравнивание\n",
    "        color = 'black',\n",
    "        fontsize = 35)\n",
    "\n",
    "plt.title('Эпюра N, Н', fontsize=22)\n",
    "plt.show()"
   ]
  },
  {
   "cell_type": "markdown",
   "metadata": {},
   "outputs": [],
   "source": [
    "<h2> 3. Определение требуемых площадей </h2>"
   ]
  },
  {
   "cell_type": "markdown",
   "metadata": {},
   "outputs": [],
   "source": [
    "Во всех участках - сжатие. Нас интересуют участки 1 и 3.\n",
    "Условие определения площади\n",
    "- Для участка 1: N_max_1уч / A >= Rс    ==> A = N_max_1уч / Rс\n",
    "- Для участка 3: N_max_2уч / 4A >= Rс   ==> A = N_max_1уч / 4Rс"
   ]
  },
  {
   "cell_type": "code",
   "metadata": {},
   "outputs": [],
   "source": [
    "A_tr = max(abs(min(N_1)/Rc), abs(min(N_3)/(4*Rc)))\n",
    "A_tr"
   ]
  },
  {
   "cell_type": "code",
   "metadata": {},
   "outputs": [],
   "source": [
    "A_1 = A_tr\n",
    "A_2 = A_3 = 4*A_tr\n",
    "A_1, A_2, A_3  # м2"
   ]
  },
  {
   "cell_type": "markdown",
   "metadata": {},
   "outputs": [],
   "source": [
    "<h2> 4. Построение эпюры нормальных напряжений </h2>"
   ]
  },
  {
   "cell_type": "markdown",
   "metadata": {},
   "outputs": [],
   "source": [
    "Нормальные напряжения на участке 1:"
   ]
  },
  {
   "cell_type": "code",
   "metadata": {},
   "outputs": [],
   "source": [
    "Sigma_1 = [0, 0]\n",
    "Sigma_1[0] = N_1[0] / A_1\n",
    "Sigma_1[1] = N_1[1] / A_1\n",
    "Sigma_1"
   ]
  },
  {
   "cell_type": "markdown",
   "metadata": {},
   "outputs": [],
   "source": [
    "Нормальные напряжения на участке 2:"
   ]
  },
  {
   "cell_type": "code",
   "metadata": {},
   "outputs": [],
   "source": [
    "Sigma_2 = [0, 0]\n",
    "Sigma_2[0] = N_2[0] / A_2\n",
    "Sigma_2[1] = N_2[1] / A_2\n",
    "Sigma_2"
   ]
  },
  {
   "cell_type": "markdown",
   "metadata": {},
   "outputs": [],
   "source": [
    "Нормальные напряжения на участке 3:"
   ]
  },
  {
   "cell_type": "code",
   "metadata": {},
   "outputs": [],
   "source": [
    "Sigma_3 = [0, 0]\n",
    "Sigma_3[0] = N_3[0] / A_3\n",
    "Sigma_3[1] = N_3[1] / A_3\n",
    "Sigma_3"
   ]
  },
  {
   "cell_type": "code",
   "metadata": {},
   "outputs": [],
   "source": [
    "# Построение эпюры Sigma\n",
    "y = [0, 0, 1, 1, 2, 2, 4, 4]\n",
    "x = [0, Sigma_3[1],Sigma_3[0], Sigma_2[1], Sigma_2[0], Sigma_1[1], Sigma_1[0], 0]\n",
    "x = [abs(el) for el in x]\n",
    "\n",
    "fig, ax = plt.subplots()\n",
    "fig.set_figwidth(6)\n",
    "fig.set_figheight(12)\n",
    "ax.plot(x, y, linestyle = '-', linewidth = 2, color = 'black')\n",
    "\n",
    "box_2 = {'facecolor':'white',\n",
    "         'edgecolor': 'black',\n",
    "         'boxstyle': 'circle',\n",
    "         'linestyle': '-',     #  начертание линии\n",
    "         'linewidth': '3'}     #  толщина линии\n",
    "\n",
    "ax.text(2.e6, 2, '-',\n",
    "        bbox = box_2,\n",
    "        horizontalalignment = 'center',    #  горизонтальное выравнивание\n",
    "        color = 'black',\n",
    "        fontsize = 35)\n",
    "\n",
    "plt.title('Эпюра Sigma_n, Па', fontsize=22)\n",
    "plt.show()"
   ]
  },
  {
   "cell_type": "markdown",
   "metadata": {},
   "outputs": [],
   "source": [
    "<h2> 5. Определение деформации стержня </h2>"
   ]
  },
  {
   "cell_type": "code",
   "metadata": {},
   "outputs": [],
   "source": [
    "delta_1 = (N_1[0]*l_1 / (E*A_1) + 0.5*q*l_1**2./(E*A_1))\n",
    "delta_1"
   ]
  },
  {
   "cell_type": "code",
   "metadata": {},
   "outputs": [],
   "source": [
    "delta_2 = 0.5*(N_2[0] + N_2[1]) * l_2 / (E*A_2)\n",
    "delta_2"
   ]
  },
  {
   "cell_type": "code",
   "metadata": {},
   "outputs": [],
   "source": [
    "delta_3 = 0.5*(N_3[0] + N_3[1]) * l_3 / (E*A_3)\n",
    "delta_3"
   ]
  },
  {
   "cell_type": "code",
   "metadata": {},
   "outputs": [],
   "source": [
    "delta_sum = delta_1 + delta_2 + delta_3\n",
    "delta_sum*1.e3  # мм"
   ]
  },
  {
   "cell_type": "markdown",
   "metadata": {},
   "outputs": [],
   "source": [
    "<h2> 6. Выводы: </h2>"
   ]
  },
  {
   "cell_type": "markdown",
   "metadata": {},
   "outputs": [],
   "source": [
    "1. Во всех участках наблюдается сжатие. Максимальное по модулю усилие - на 3-м участке и составляет 310 кН; </br>\n",
    "2. Максимальное напряжение составляет 12 МПа;\n",
    "3. Абсолютная линейная деформация стержня составляет 2.38 мм"
   ]
  },
  {
   "cell_type": "markdown",
   "metadata": {},
   "outputs": [],
   "source": [
    "<h2> 7. Проверочный расчёт с помощью Метода Конечных Элементов (МКЭ) </h2> "
   ]
  },
  {
   "cell_type": "markdown",
   "metadata": {},
   "outputs": [],
   "source": [
    "Используем библиотеку <b> anastruct </b>"
   ]
  },
  {
   "cell_type": "code",
   "metadata": {},
   "outputs": [],
   "source": [
    "from anastruct import SystemElements\n",
    "\n",
    "# Характеристики стержней\n",
    "se = SystemElements(EA=1., EI=1.)\n",
    "\n",
    "# Добавляем стержни\n",
    "se.add_element(location=[[0, 0], [0, 1]], EA=4.*0.01*15.e9)\n",
    "se.add_element(location=[[0, 1], [0, 2]], EA=4.*0.01*15.e9)\n",
    "se.add_element(location=[[0, 2], [0, 4]], EA=1.*0.01*15.e9)\n",
    "\n",
    "# Добавляем заделку\n",
    "se.add_support_fixed(node_id=1)\n",
    "\n",
    "# Добавляем нагрузки\n",
    "se.point_load(Fy=F3, node_id=2)\n",
    "se.point_load(Fy=F2, node_id=3)\n",
    "se.point_load(Fy=F1, node_id=4)\n",
    "se.q_load(q=q, element_id=3, direction='y')\n",
    "\n",
    "# Выполняем расчёт\n",
    "se.solve()"
   ]
  },
  {
   "cell_type": "markdown",
   "metadata": {},
   "outputs": [],
   "source": []
  },
  {
   "cell_type": "markdown",
   "metadata": {},
   "outputs": [],
   "source": [
    "<h3> Отображение расчётной схемы: </h3>"
   ]
  },
  {
   "cell_type": "code",
   "metadata": {},
   "outputs": [],
   "source": [
    "se.show_structure()"
   ]
  },
  {
   "cell_type": "markdown",
   "metadata": {},
   "outputs": [],
   "source": [
    "<h3> Реакция в опоре, Н: </h3>"
   ]
  },
  {
   "cell_type": "code",
   "metadata": {},
   "outputs": [],
   "source": [
    "se.show_reaction_force()"
   ]
  },
  {
   "cell_type": "markdown",
   "metadata": {},
   "outputs": [],
   "source": [
    "<h3> Эпюра продольных усилий, Н: </h3>"
   ]
  },
  {
   "cell_type": "code",
   "metadata": {},
   "outputs": [],
   "source": [
    "se.show_axial_force()"
   ]
  },
  {
   "cell_type": "markdown",
   "metadata": {},
   "outputs": [],
   "source": [
    "<h3> Перемещения, м: </h3>"
   ]
  },
  {
   "cell_type": "code",
   "metadata": {},
   "outputs": [],
   "source": [
    "se.show_displacement()"
   ]
  },
  {
   "cell_type": "markdown",
   "metadata": {},
   "outputs": [],
   "source": [
    "Перемещения в узле 4 (верхний узел), м:"
   ]
  },
  {
   "cell_type": "code",
   "metadata": {},
   "outputs": [],
   "source": [
    "print(se.get_node_displacements(node_id=4)['uy'])"
   ]
  },
  {
   "cell_type": "markdown",
   "metadata": {},
   "outputs": [],
   "source": [
    "<h2> Заключение: результаты численного расчёта полностью совпали с результатами ручного расчёта как по усилиям, так и по перемещениям. </h2>"
   ]
  }
 ]
}