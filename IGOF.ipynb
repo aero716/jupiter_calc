{
 "nbformat": 4,
 "nbformat_minor": 2,
 "metadata": {
  "language_info": {
   "name": "python",
   "codemirror_mode": {
    "name": "ipython",
    "version": 3
   },
   "version": "3.7.3-final"
  },
  "orig_nbformat": 2,
  "file_extension": ".py",
  "mimetype": "text/x-python",
  "name": "python",
  "npconvert_exporter": "python",
  "pygments_lexer": "ipython3",
  "version": 3,
  "kernelspec": {
   "name": "python37364bitbaseconda02edb883202042bc8ceb11f92cc2f7c9",
   "display_name": "Python 3.7.3 64-bit ('base': conda)"
  }
 },
 "cells": [
  {
   "cell_type": "markdown",
   "metadata": {},
   "source": [
    "04/04/2020"
   ]
  },
  {
   "cell_type": "markdown",
   "metadata": {},
   "source": [
    "<h2> Тимофеев М.В., ПГС-17 </h2>"
   ]
  },
  {
   "cell_type": "markdown",
   "metadata": {},
   "source": [
    "<h3><i> Описание: </h3>\n",
    "Расчётный документ создан в програмно-вычислительной среде JupiterNotebook на языке Python 3.<br/>\n",
    "После символа # идут комментарии <br/>\n",
    "Единицы измерения: система СИ \n",
    "Индексация массивов начинается с 0, т.е. ИГЭ-1 соответствует нулевому элементу массива\n",
    "</i>"
   ]
  },
  {
   "cell_type": "markdown",
   "metadata": {},
   "source": [
    "<h1> <font color='red'> Задача №1 Построить эпюру вертикальных напряжений от собственного веса грунта <font color='red'></h1>"
   ]
  },
  {
   "cell_type": "code",
   "execution_count": 1,
   "metadata": {},
   "outputs": [],
   "source": [
    "# Подключение библиотек:\n",
    "from math import *  # Математическая\n",
    "import matplotlib.pyplot as plt  # Построение графиков"
   ]
  },
  {
   "cell_type": "markdown",
   "metadata": {},
   "source": [
    "<h2> <font color='blue'> 1.1 Исходные данные:  </font> </h2>"
   ]
  },
  {
   "cell_type": "code",
   "execution_count": 2,
   "metadata": {},
   "outputs": [],
   "source": [
    "# Исходные данные\n",
    "# Инженерно-геологические элементы:\n",
    "ИГЭ =  [{'name': 'ИГЭ-1', 'h': 2., 'gamma_s': 27.e3, 'gamma':21.3e3, 'e':0.61, 'type':'супесь'}, \n",
    "    {'name': 'ИГЭ-2', 'h': 3., 'gamma_s': 26.7e3, 'gamma':20.5e3, 'e':0.55, 'type':'песок'}, \n",
    "    {'name': 'ИГЭ-3', 'h': 2.5, 'gamma_s': 27.6e3, 'gamma':19.5e3, 'e':0.42, 'type':'глина водоупорная'}, \n",
    "    {'name': 'ИГЭ-4', 'h': 3., 'gamma_s': 26.5e3, 'gamma':19.3e3, 'e':0.3, 'type':'песок'}]"
   ]
  },
  {
   "cell_type": "code",
   "execution_count": 3,
   "metadata": {},
   "outputs": [],
   "source": [
    "d_w = 4.  # Уровень грунтовых вод"
   ]
  },
  {
   "cell_type": "markdown",
   "metadata": {},
   "source": [
    "<h2> <font color='blue'> 1.2 Расчёт напряжений в характерных точках:  </font> </h2>"
   ]
  },
  {
   "cell_type": "code",
   "execution_count": 4,
   "metadata": {},
   "outputs": [
    {
     "output_type": "execute_result",
     "data": {
      "text/plain": "10897"
     },
     "metadata": {},
     "execution_count": 4
    }
   ],
   "source": [
    "gamma_w = 9.81*1000.  # Удельный вес воды\n",
    "gamma_sb_2 = ceil((ИГЭ[1]['gamma_s'] - gamma_w)/(1. + ИГЭ[1]['e']))\n",
    "\n",
    "gamma_sb_2"
   ]
  },
  {
   "cell_type": "code",
   "execution_count": 5,
   "metadata": {},
   "outputs": [],
   "source": [
    "# Напряжения и глубина расчётных точек №0..5\n",
    "z_0 = 0.\n",
    "sigma_0 = 0.\n",
    "\n",
    "z_1 = ИГЭ[0]['h']\n",
    "sigma_1 = ceil(ИГЭ[0]['h']*ИГЭ[0]['gamma'])\n",
    "\n",
    "z_2 = d_w\n",
    "sigma_2 = ceil(sigma_1 + (d_w - ИГЭ[0]['h'])*ИГЭ[1]['gamma'])\n",
    "\n",
    "z_3 = ИГЭ[0]['h'] + ИГЭ[1]['h']\n",
    "sigma_3 = ceil(sigma_2 + (ИГЭ[0]['h'] + ИГЭ[1]['h'] - d_w)*gamma_sb_2)\n",
    "sigma_3_1 = ceil(sigma_3 + (ИГЭ[0]['h'] + ИГЭ[1]['h'] - d_w)*gamma_w)\n",
    "\n",
    "z_4 = ИГЭ[0]['h'] + ИГЭ[1]['h'] + ИГЭ[2]['h']\n",
    "sigma_4 = ceil(sigma_3_1 + ИГЭ[2]['h']*ИГЭ[2]['gamma'])\n",
    "\n",
    "z_5 = ИГЭ[0]['h'] + ИГЭ[1]['h'] + ИГЭ[2]['h'] + ИГЭ[3]['h']\n",
    "sigma_5 = ceil(sigma_4 + ИГЭ[3]['h']*ИГЭ[3]['gamma'])\n",
    "\n",
    "Точки =  [{'name': '0', 'z': z_0, 'sigma_g':sigma_0}, \n",
    "    {'name': '1', 'z': z_1, 'sigma_g':sigma_1},\n",
    "    {'name': '2', 'z': z_2, 'sigma_g':sigma_2},\n",
    "    {'name': '3', 'z': z_3, 'sigma_g':sigma_3},\n",
    "    {'name': '3', 'z': z_3, 'sigma_g':sigma_3_1},\n",
    "    {'name': '4', 'z': z_4, 'sigma_g':sigma_4},\n",
    "    {'name': '5', 'z': z_5, 'sigma_g':sigma_5}\n",
    "]"
   ]
  },
  {
   "cell_type": "code",
   "execution_count": 6,
   "metadata": {},
   "outputs": [
    {
     "output_type": "execute_result",
     "data": {
      "text/plain": "[{'name': '0', 'z': 0.0, 'sigma_g': 0.0},\n {'name': '1', 'z': 2.0, 'sigma_g': 42600},\n {'name': '2', 'z': 4.0, 'sigma_g': 83600},\n {'name': '3', 'z': 5.0, 'sigma_g': 94497},\n {'name': '3', 'z': 5.0, 'sigma_g': 104307},\n {'name': '4', 'z': 7.5, 'sigma_g': 153057},\n {'name': '5', 'z': 10.5, 'sigma_g': 210957}]"
     },
     "metadata": {},
     "execution_count": 6
    }
   ],
   "source": [
    "# Проверка (вывод числовых значений в формате название, глубина, напряжения):\n",
    "Точки"
   ]
  },
  {
   "cell_type": "markdown",
   "metadata": {},
   "source": [
    "<h2> <font color='blue'> 1.3 Построение эпюры:  </font> </h2>"
   ]
  },
  {
   "cell_type": "code",
   "execution_count": 7,
   "metadata": {},
   "outputs": [
    {
     "output_type": "error",
     "ename": "NameError",
     "evalue": "name 'ticker' is not defined",
     "traceback": [
      "\u001b[1;31m---------------------------------------------------------------------------\u001b[0m",
      "\u001b[1;31mNameError\u001b[0m                                 Traceback (most recent call last)",
      "\u001b[1;32m<ipython-input-7-17b7fd7c7e71>\u001b[0m in \u001b[0;36m<module>\u001b[1;34m\u001b[0m\n\u001b[0;32m     45\u001b[0m \u001b[0max\u001b[0m\u001b[1;33m.\u001b[0m\u001b[0mtext\u001b[0m\u001b[1;33m(\u001b[0m\u001b[0mТочки\u001b[0m\u001b[1;33m[\u001b[0m\u001b[1;36m6\u001b[0m\u001b[1;33m]\u001b[0m\u001b[1;33m[\u001b[0m\u001b[1;34m'sigma_g'\u001b[0m\u001b[1;33m]\u001b[0m\u001b[1;33m,\u001b[0m \u001b[0mТочки\u001b[0m\u001b[1;33m[\u001b[0m\u001b[1;36m6\u001b[0m\u001b[1;33m]\u001b[0m\u001b[1;33m[\u001b[0m\u001b[1;34m'z'\u001b[0m\u001b[1;33m]\u001b[0m\u001b[1;33m+\u001b[0m\u001b[1;36m0.3\u001b[0m\u001b[1;33m,\u001b[0m \u001b[0mТочки\u001b[0m\u001b[1;33m[\u001b[0m\u001b[1;36m6\u001b[0m\u001b[1;33m]\u001b[0m\u001b[1;33m[\u001b[0m\u001b[1;34m'sigma_g'\u001b[0m\u001b[1;33m]\u001b[0m\u001b[1;33m,\u001b[0m \u001b[0mhorizontalalignment\u001b[0m \u001b[1;33m=\u001b[0m \u001b[1;34m'left'\u001b[0m\u001b[1;33m,\u001b[0m \u001b[0mcolor\u001b[0m \u001b[1;33m=\u001b[0m \u001b[1;34m'black'\u001b[0m\u001b[1;33m,\u001b[0m \u001b[0mfontsize\u001b[0m \u001b[1;33m=\u001b[0m \u001b[1;36m15\u001b[0m\u001b[1;33m)\u001b[0m\u001b[1;33m\u001b[0m\u001b[1;33m\u001b[0m\u001b[0m\n\u001b[0;32m     46\u001b[0m \u001b[1;33m\u001b[0m\u001b[0m\n\u001b[1;32m---> 47\u001b[1;33m \u001b[0max\u001b[0m\u001b[1;33m.\u001b[0m\u001b[0myaxis\u001b[0m\u001b[1;33m.\u001b[0m\u001b[0mset_major_locator\u001b[0m\u001b[1;33m(\u001b[0m\u001b[0mticker\u001b[0m\u001b[1;33m.\u001b[0m\u001b[0mMultipleLocator\u001b[0m\u001b[1;33m(\u001b[0m\u001b[1;36m2\u001b[0m\u001b[1;33m)\u001b[0m\u001b[1;33m)\u001b[0m\u001b[1;33m\u001b[0m\u001b[1;33m\u001b[0m\u001b[0m\n\u001b[0m\u001b[0;32m     48\u001b[0m \u001b[0max\u001b[0m\u001b[1;33m.\u001b[0m\u001b[0myaxis\u001b[0m\u001b[1;33m.\u001b[0m\u001b[0mset_minor_locator\u001b[0m\u001b[1;33m(\u001b[0m\u001b[0mticker\u001b[0m\u001b[1;33m.\u001b[0m\u001b[0mMultipleLocator\u001b[0m\u001b[1;33m(\u001b[0m\u001b[1;36m1\u001b[0m\u001b[1;33m)\u001b[0m\u001b[1;33m)\u001b[0m\u001b[1;33m\u001b[0m\u001b[1;33m\u001b[0m\u001b[0m\n\u001b[0;32m     49\u001b[0m \u001b[1;33m\u001b[0m\u001b[0m\n",
      "\u001b[1;31mNameError\u001b[0m: name 'ticker' is not defined"
     ]
    }
   ],
   "source": [
    "# Построение эпюры напряжений (формирование графического вывода):\n",
    "y = [Точки[0]['z'], Точки[1]['z'], Точки[2]['z'], Точки[3]['z'], Точки[4]['z'], Точки[5]['z'], Точки[6]['z']]\n",
    "x = [Точки[0]['sigma_g'],Точки[1]['sigma_g'], Точки[2]['sigma_g'], Точки[3]['sigma_g'], Точки[4]['sigma_g'], Точки[5]['sigma_g'], Точки[6]['sigma_g']]\n",
    "\n",
    "x_max = max(x) \n",
    "\n",
    "fig, ax = plt.subplots()\n",
    "ax.invert_yaxis()\n",
    "fig.set_figwidth(6)\n",
    "fig.set_figheight(12)\n",
    "ax.plot(x, y, linestyle = '-', linewidth = 2, color = 'black')\n",
    "ax.scatter(x=x, y=y, marker='o', c='black', edgecolor='black')\n",
    "ax.hlines(Точки[0]['z'], -70000, x_max, color = 'gray')\n",
    "ax.hlines(Точки[1]['z'], -70000, x_max, color = 'gray')\n",
    "ax.hlines(Точки[2]['z'], -70000, x_max, color = 'gray', linestyle = '--')\n",
    "ax.hlines(Точки[3]['z'], -70000, x_max, color = 'gray')\n",
    "ax.hlines(Точки[4]['z'], -70000, x_max, color = 'gray')\n",
    "ax.hlines(Точки[5]['z'], -70000, x_max, color = 'gray')\n",
    "ax.hlines(Точки[6]['z'], -70000, x_max, color = 'gray')\n",
    "ax.vlines(0, Точки[0]['z'], Точки[6]['z'])\n",
    "ax.scatter(x=[0,0,0,0,0,0,0], y=y, marker='o', c='black', edgecolor='black')\n",
    "\n",
    "ax.text(-10000, Точки[0]['z'], '0', horizontalalignment = 'center', color = 'black', fontsize = 20)\n",
    "ax.text(-50000, 0.5*(Точки[0]['z']+Точки[1]['z']), 'ИГЭ-1', horizontalalignment = 'center', color = 'black', fontsize = 15)\n",
    "\n",
    "ax.text(-10000, Точки[1]['z'], '1', horizontalalignment = 'center', color = 'black', fontsize = 20)\n",
    "ax.text(-50000, 0.5*(Точки[1]['z']+Точки[2]['z']), 'ИГЭ-2', horizontalalignment = 'center', color = 'black', fontsize = 15)\n",
    "ax.text(Точки[1]['sigma_g'], Точки[1]['z'], Точки[1]['sigma_g'], horizontalalignment = 'left', color = 'black', fontsize = 15)\n",
    "\n",
    "ax.text(-10000, Точки[2]['z'], '2', horizontalalignment = 'center', color = 'black', fontsize = 20)\n",
    "ax.text(120000, Точки[2]['z'], 'Ур.гр.вод', horizontalalignment = 'center', color = 'black', fontsize = 15)\n",
    "ax.text(Точки[2]['sigma_g'], Точки[2]['z']+0.3, Точки[2]['sigma_g'], horizontalalignment = 'left', color = 'black', fontsize = 15)\n",
    "\n",
    "ax.text(-10000, Точки[3]['z'], '3', horizontalalignment = 'center', color = 'black', fontsize = 20)\n",
    "ax.text(-50000, 0.5*(Точки[2]['z']+Точки[3]['z']), 'ИГЭ-2', horizontalalignment = 'center', color = 'black', fontsize = 15)\n",
    "ax.text(Точки[3]['sigma_g'], Точки[3]['z']+0.3, Точки[3]['sigma_g'], horizontalalignment = 'right', color = 'black', fontsize = 15)\n",
    "ax.text(Точки[4]['sigma_g'], Точки[4]['z']+0.3, Точки[4]['sigma_g'], horizontalalignment = 'left', color = 'black', fontsize = 15)\n",
    "\n",
    "ax.text(-10000, Точки[5]['z'], '4', horizontalalignment = 'center', color = 'black', fontsize = 20)\n",
    "ax.text(-50000, 0.5*(Точки[4]['z']+Точки[5]['z']), 'ИГЭ-3', horizontalalignment = 'center', color = 'black', fontsize = 15)\n",
    "ax.text(Точки[5]['sigma_g'], Точки[5]['z']+0.3, Точки[5]['sigma_g'], horizontalalignment = 'left', color = 'black', fontsize = 15)\n",
    "\n",
    "ax.text(-10000, Точки[6]['z'], '5', horizontalalignment = 'center', color = 'black', fontsize = 20)\n",
    "ax.text(-50000, 0.5*(Точки[5]['z']+Точки[6]['z']), 'ИГЭ-4', horizontalalignment = 'center', color = 'black', fontsize = 15)\n",
    "ax.text(Точки[6]['sigma_g'], Точки[6]['z']+0.3, Точки[6]['sigma_g'], horizontalalignment = 'left', color = 'black', fontsize = 15)\n",
    "\n",
    "ax.yaxis.set_major_locator(ticker.MultipleLocator(2))\n",
    "ax.yaxis.set_minor_locator(ticker.MultipleLocator(1))\n",
    "\n",
    "plt.title('Эпюра напряжений, Па', fontsize=22)\n",
    "plt.show()"
   ]
  },
  {
   "cell_type": "markdown",
   "metadata": {},
   "source": [
    "<h1> <font color='red'> Задача №2 Определить расчетное сопротивление грунта R под подошвой фундамента\n",
    "бесподвального сооружения <font color='red'></h1>"
   ]
  },
  {
   "cell_type": "markdown",
   "metadata": {},
   "source": [
    "<h2> <font color='blue'> 2.1 Исходные данные:  </font> </h2>"
   ]
  },
  {
   "cell_type": "code",
   "execution_count": 8,
   "metadata": {},
   "outputs": [],
   "source": [
    "d = 1.5  # Глубина заложения фундамента, м\n",
    "b = 4.  # Ширина подошвы, м\n",
    "c_II = 11.e3  # расчетное значение удельного сцепления грунта, залегающего непосредственно под подошвой фундамента, Па"
   ]
  },
  {
   "cell_type": "code",
   "execution_count": 9,
   "metadata": {},
   "outputs": [
    {
     "output_type": "display_data",
     "data": {
      "text/plain": "<Figure size 864x864 with 1 Axes>",
      "image/svg+xml": "<?xml version=\"1.0\" encoding=\"utf-8\" standalone=\"no\"?>\r\n<!DOCTYPE svg PUBLIC \"-//W3C//DTD SVG 1.1//EN\"\r\n  \"http://www.w3.org/Graphics/SVG/1.1/DTD/svg11.dtd\">\r\n<!-- Created with matplotlib (https://matplotlib.org/) -->\r\n<svg height=\"706.114688pt\" version=\"1.1\" viewBox=\"0 0 707.225 706.114688\" width=\"707.225pt\" xmlns=\"http://www.w3.org/2000/svg\" xmlns:xlink=\"http://www.w3.org/1999/xlink\">\r\n <defs>\r\n  <style type=\"text/css\">\r\n*{stroke-linecap:butt;stroke-linejoin:round;}\r\n  </style>\r\n </defs>\r\n <g id=\"figure_1\">\r\n  <g id=\"patch_1\">\r\n   <path d=\"M 0 706.114688 \r\nL 707.225 706.114688 \r\nL 707.225 0 \r\nL 0 0 \r\nz\r\n\" style=\"fill:none;\"/>\r\n  </g>\r\n  <g id=\"axes_1\">\r\n   <g id=\"patch_2\">\r\n    <path d=\"M 26.925 682.236562 \r\nL 696.525 682.236562 \r\nL 696.525 29.916562 \r\nL 26.925 29.916562 \r\nz\r\n\" style=\"fill:#ffffff;\"/>\r\n   </g>\r\n   <g id=\"matplotlib.axis_1\">\r\n    <g id=\"xtick_1\">\r\n     <g id=\"line2d_1\">\r\n      <defs>\r\n       <path d=\"M 0 0 \r\nL 0 3.5 \r\n\" id=\"m32d394e292\" style=\"stroke:#000000;stroke-width:0.8;\"/>\r\n      </defs>\r\n      <g>\r\n       <use style=\"stroke:#000000;stroke-width:0.8;\" x=\"57.361364\" xlink:href=\"#m32d394e292\" y=\"682.236562\"/>\r\n      </g>\r\n     </g>\r\n     <g id=\"text_1\">\r\n      <!-- −10 -->\r\n      <defs>\r\n       <path d=\"M 10.59375 35.5 \r\nL 73.1875 35.5 \r\nL 73.1875 27.203125 \r\nL 10.59375 27.203125 \r\nz\r\n\" id=\"DejaVuSans-8722\"/>\r\n       <path d=\"M 12.40625 8.296875 \r\nL 28.515625 8.296875 \r\nL 28.515625 63.921875 \r\nL 10.984375 60.40625 \r\nL 10.984375 69.390625 \r\nL 28.421875 72.90625 \r\nL 38.28125 72.90625 \r\nL 38.28125 8.296875 \r\nL 54.390625 8.296875 \r\nL 54.390625 0 \r\nL 12.40625 0 \r\nz\r\n\" id=\"DejaVuSans-49\"/>\r\n       <path d=\"M 31.78125 66.40625 \r\nQ 24.171875 66.40625 20.328125 58.90625 \r\nQ 16.5 51.421875 16.5 36.375 \r\nQ 16.5 21.390625 20.328125 13.890625 \r\nQ 24.171875 6.390625 31.78125 6.390625 \r\nQ 39.453125 6.390625 43.28125 13.890625 \r\nQ 47.125 21.390625 47.125 36.375 \r\nQ 47.125 51.421875 43.28125 58.90625 \r\nQ 39.453125 66.40625 31.78125 66.40625 \r\nz\r\nM 31.78125 74.21875 \r\nQ 44.046875 74.21875 50.515625 64.515625 \r\nQ 56.984375 54.828125 56.984375 36.375 \r\nQ 56.984375 17.96875 50.515625 8.265625 \r\nQ 44.046875 -1.421875 31.78125 -1.421875 \r\nQ 19.53125 -1.421875 13.0625 8.265625 \r\nQ 6.59375 17.96875 6.59375 36.375 \r\nQ 6.59375 54.828125 13.0625 64.515625 \r\nQ 19.53125 74.21875 31.78125 74.21875 \r\nz\r\n\" id=\"DejaVuSans-48\"/>\r\n      </defs>\r\n      <g transform=\"translate(46.80902 696.835)scale(0.1 -0.1)\">\r\n       <use xlink:href=\"#DejaVuSans-8722\"/>\r\n       <use x=\"83.789062\" xlink:href=\"#DejaVuSans-49\"/>\r\n       <use x=\"147.412109\" xlink:href=\"#DejaVuSans-48\"/>\r\n      </g>\r\n     </g>\r\n    </g>\r\n    <g id=\"xtick_2\">\r\n     <g id=\"line2d_2\">\r\n      <g>\r\n       <use style=\"stroke:#000000;stroke-width:0.8;\" x=\"118.234091\" xlink:href=\"#m32d394e292\" y=\"682.236562\"/>\r\n      </g>\r\n     </g>\r\n     <g id=\"text_2\">\r\n      <!-- −8 -->\r\n      <defs>\r\n       <path d=\"M 31.78125 34.625 \r\nQ 24.75 34.625 20.71875 30.859375 \r\nQ 16.703125 27.09375 16.703125 20.515625 \r\nQ 16.703125 13.921875 20.71875 10.15625 \r\nQ 24.75 6.390625 31.78125 6.390625 \r\nQ 38.8125 6.390625 42.859375 10.171875 \r\nQ 46.921875 13.96875 46.921875 20.515625 \r\nQ 46.921875 27.09375 42.890625 30.859375 \r\nQ 38.875 34.625 31.78125 34.625 \r\nz\r\nM 21.921875 38.8125 \r\nQ 15.578125 40.375 12.03125 44.71875 \r\nQ 8.5 49.078125 8.5 55.328125 \r\nQ 8.5 64.0625 14.71875 69.140625 \r\nQ 20.953125 74.21875 31.78125 74.21875 \r\nQ 42.671875 74.21875 48.875 69.140625 \r\nQ 55.078125 64.0625 55.078125 55.328125 \r\nQ 55.078125 49.078125 51.53125 44.71875 \r\nQ 48 40.375 41.703125 38.8125 \r\nQ 48.828125 37.15625 52.796875 32.3125 \r\nQ 56.78125 27.484375 56.78125 20.515625 \r\nQ 56.78125 9.90625 50.3125 4.234375 \r\nQ 43.84375 -1.421875 31.78125 -1.421875 \r\nQ 19.734375 -1.421875 13.25 4.234375 \r\nQ 6.78125 9.90625 6.78125 20.515625 \r\nQ 6.78125 27.484375 10.78125 32.3125 \r\nQ 14.796875 37.15625 21.921875 38.8125 \r\nz\r\nM 18.3125 54.390625 \r\nQ 18.3125 48.734375 21.84375 45.5625 \r\nQ 25.390625 42.390625 31.78125 42.390625 \r\nQ 38.140625 42.390625 41.71875 45.5625 \r\nQ 45.3125 48.734375 45.3125 54.390625 \r\nQ 45.3125 60.0625 41.71875 63.234375 \r\nQ 38.140625 66.40625 31.78125 66.40625 \r\nQ 25.390625 66.40625 21.84375 63.234375 \r\nQ 18.3125 60.0625 18.3125 54.390625 \r\nz\r\n\" id=\"DejaVuSans-56\"/>\r\n      </defs>\r\n      <g transform=\"translate(110.862997 696.835)scale(0.1 -0.1)\">\r\n       <use xlink:href=\"#DejaVuSans-8722\"/>\r\n       <use x=\"83.789062\" xlink:href=\"#DejaVuSans-56\"/>\r\n      </g>\r\n     </g>\r\n    </g>\r\n    <g id=\"xtick_3\">\r\n     <g id=\"line2d_3\">\r\n      <g>\r\n       <use style=\"stroke:#000000;stroke-width:0.8;\" x=\"179.106818\" xlink:href=\"#m32d394e292\" y=\"682.236562\"/>\r\n      </g>\r\n     </g>\r\n     <g id=\"text_3\">\r\n      <!-- −6 -->\r\n      <defs>\r\n       <path d=\"M 33.015625 40.375 \r\nQ 26.375 40.375 22.484375 35.828125 \r\nQ 18.609375 31.296875 18.609375 23.390625 \r\nQ 18.609375 15.53125 22.484375 10.953125 \r\nQ 26.375 6.390625 33.015625 6.390625 \r\nQ 39.65625 6.390625 43.53125 10.953125 \r\nQ 47.40625 15.53125 47.40625 23.390625 \r\nQ 47.40625 31.296875 43.53125 35.828125 \r\nQ 39.65625 40.375 33.015625 40.375 \r\nz\r\nM 52.59375 71.296875 \r\nL 52.59375 62.3125 \r\nQ 48.875 64.0625 45.09375 64.984375 \r\nQ 41.3125 65.921875 37.59375 65.921875 \r\nQ 27.828125 65.921875 22.671875 59.328125 \r\nQ 17.53125 52.734375 16.796875 39.40625 \r\nQ 19.671875 43.65625 24.015625 45.921875 \r\nQ 28.375 48.1875 33.59375 48.1875 \r\nQ 44.578125 48.1875 50.953125 41.515625 \r\nQ 57.328125 34.859375 57.328125 23.390625 \r\nQ 57.328125 12.15625 50.6875 5.359375 \r\nQ 44.046875 -1.421875 33.015625 -1.421875 \r\nQ 20.359375 -1.421875 13.671875 8.265625 \r\nQ 6.984375 17.96875 6.984375 36.375 \r\nQ 6.984375 53.65625 15.1875 63.9375 \r\nQ 23.390625 74.21875 37.203125 74.21875 \r\nQ 40.921875 74.21875 44.703125 73.484375 \r\nQ 48.484375 72.75 52.59375 71.296875 \r\nz\r\n\" id=\"DejaVuSans-54\"/>\r\n      </defs>\r\n      <g transform=\"translate(171.735724 696.835)scale(0.1 -0.1)\">\r\n       <use xlink:href=\"#DejaVuSans-8722\"/>\r\n       <use x=\"83.789062\" xlink:href=\"#DejaVuSans-54\"/>\r\n      </g>\r\n     </g>\r\n    </g>\r\n    <g id=\"xtick_4\">\r\n     <g id=\"line2d_4\">\r\n      <g>\r\n       <use style=\"stroke:#000000;stroke-width:0.8;\" x=\"239.979545\" xlink:href=\"#m32d394e292\" y=\"682.236562\"/>\r\n      </g>\r\n     </g>\r\n     <g id=\"text_4\">\r\n      <!-- −4 -->\r\n      <defs>\r\n       <path d=\"M 37.796875 64.3125 \r\nL 12.890625 25.390625 \r\nL 37.796875 25.390625 \r\nz\r\nM 35.203125 72.90625 \r\nL 47.609375 72.90625 \r\nL 47.609375 25.390625 \r\nL 58.015625 25.390625 \r\nL 58.015625 17.1875 \r\nL 47.609375 17.1875 \r\nL 47.609375 0 \r\nL 37.796875 0 \r\nL 37.796875 17.1875 \r\nL 4.890625 17.1875 \r\nL 4.890625 26.703125 \r\nz\r\n\" id=\"DejaVuSans-52\"/>\r\n      </defs>\r\n      <g transform=\"translate(232.608452 696.835)scale(0.1 -0.1)\">\r\n       <use xlink:href=\"#DejaVuSans-8722\"/>\r\n       <use x=\"83.789062\" xlink:href=\"#DejaVuSans-52\"/>\r\n      </g>\r\n     </g>\r\n    </g>\r\n    <g id=\"xtick_5\">\r\n     <g id=\"line2d_5\">\r\n      <g>\r\n       <use style=\"stroke:#000000;stroke-width:0.8;\" x=\"300.852273\" xlink:href=\"#m32d394e292\" y=\"682.236562\"/>\r\n      </g>\r\n     </g>\r\n     <g id=\"text_5\">\r\n      <!-- −2 -->\r\n      <defs>\r\n       <path d=\"M 19.1875 8.296875 \r\nL 53.609375 8.296875 \r\nL 53.609375 0 \r\nL 7.328125 0 \r\nL 7.328125 8.296875 \r\nQ 12.9375 14.109375 22.625 23.890625 \r\nQ 32.328125 33.6875 34.8125 36.53125 \r\nQ 39.546875 41.84375 41.421875 45.53125 \r\nQ 43.3125 49.21875 43.3125 52.78125 \r\nQ 43.3125 58.59375 39.234375 62.25 \r\nQ 35.15625 65.921875 28.609375 65.921875 \r\nQ 23.96875 65.921875 18.8125 64.3125 \r\nQ 13.671875 62.703125 7.8125 59.421875 \r\nL 7.8125 69.390625 \r\nQ 13.765625 71.78125 18.9375 73 \r\nQ 24.125 74.21875 28.421875 74.21875 \r\nQ 39.75 74.21875 46.484375 68.546875 \r\nQ 53.21875 62.890625 53.21875 53.421875 \r\nQ 53.21875 48.921875 51.53125 44.890625 \r\nQ 49.859375 40.875 45.40625 35.40625 \r\nQ 44.1875 33.984375 37.640625 27.21875 \r\nQ 31.109375 20.453125 19.1875 8.296875 \r\nz\r\n\" id=\"DejaVuSans-50\"/>\r\n      </defs>\r\n      <g transform=\"translate(293.481179 696.835)scale(0.1 -0.1)\">\r\n       <use xlink:href=\"#DejaVuSans-8722\"/>\r\n       <use x=\"83.789062\" xlink:href=\"#DejaVuSans-50\"/>\r\n      </g>\r\n     </g>\r\n    </g>\r\n    <g id=\"xtick_6\">\r\n     <g id=\"line2d_6\">\r\n      <g>\r\n       <use style=\"stroke:#000000;stroke-width:0.8;\" x=\"361.725\" xlink:href=\"#m32d394e292\" y=\"682.236562\"/>\r\n      </g>\r\n     </g>\r\n     <g id=\"text_6\">\r\n      <!-- 0 -->\r\n      <g transform=\"translate(358.54375 696.835)scale(0.1 -0.1)\">\r\n       <use xlink:href=\"#DejaVuSans-48\"/>\r\n      </g>\r\n     </g>\r\n    </g>\r\n    <g id=\"xtick_7\">\r\n     <g id=\"line2d_7\">\r\n      <g>\r\n       <use style=\"stroke:#000000;stroke-width:0.8;\" x=\"422.597727\" xlink:href=\"#m32d394e292\" y=\"682.236562\"/>\r\n      </g>\r\n     </g>\r\n     <g id=\"text_7\">\r\n      <!-- 2 -->\r\n      <g transform=\"translate(419.416477 696.835)scale(0.1 -0.1)\">\r\n       <use xlink:href=\"#DejaVuSans-50\"/>\r\n      </g>\r\n     </g>\r\n    </g>\r\n    <g id=\"xtick_8\">\r\n     <g id=\"line2d_8\">\r\n      <g>\r\n       <use style=\"stroke:#000000;stroke-width:0.8;\" x=\"483.470455\" xlink:href=\"#m32d394e292\" y=\"682.236562\"/>\r\n      </g>\r\n     </g>\r\n     <g id=\"text_8\">\r\n      <!-- 4 -->\r\n      <g transform=\"translate(480.289205 696.835)scale(0.1 -0.1)\">\r\n       <use xlink:href=\"#DejaVuSans-52\"/>\r\n      </g>\r\n     </g>\r\n    </g>\r\n    <g id=\"xtick_9\">\r\n     <g id=\"line2d_9\">\r\n      <g>\r\n       <use style=\"stroke:#000000;stroke-width:0.8;\" x=\"544.343182\" xlink:href=\"#m32d394e292\" y=\"682.236562\"/>\r\n      </g>\r\n     </g>\r\n     <g id=\"text_9\">\r\n      <!-- 6 -->\r\n      <g transform=\"translate(541.161932 696.835)scale(0.1 -0.1)\">\r\n       <use xlink:href=\"#DejaVuSans-54\"/>\r\n      </g>\r\n     </g>\r\n    </g>\r\n    <g id=\"xtick_10\">\r\n     <g id=\"line2d_10\">\r\n      <g>\r\n       <use style=\"stroke:#000000;stroke-width:0.8;\" x=\"605.215909\" xlink:href=\"#m32d394e292\" y=\"682.236562\"/>\r\n      </g>\r\n     </g>\r\n     <g id=\"text_10\">\r\n      <!-- 8 -->\r\n      <g transform=\"translate(602.034659 696.835)scale(0.1 -0.1)\">\r\n       <use xlink:href=\"#DejaVuSans-56\"/>\r\n      </g>\r\n     </g>\r\n    </g>\r\n    <g id=\"xtick_11\">\r\n     <g id=\"line2d_11\">\r\n      <g>\r\n       <use style=\"stroke:#000000;stroke-width:0.8;\" x=\"666.088636\" xlink:href=\"#m32d394e292\" y=\"682.236562\"/>\r\n      </g>\r\n     </g>\r\n     <g id=\"text_11\">\r\n      <!-- 10 -->\r\n      <g transform=\"translate(659.726136 696.835)scale(0.1 -0.1)\">\r\n       <use xlink:href=\"#DejaVuSans-49\"/>\r\n       <use x=\"63.623047\" xlink:href=\"#DejaVuSans-48\"/>\r\n      </g>\r\n     </g>\r\n    </g>\r\n    <g id=\"xtick_12\">\r\n     <g id=\"line2d_12\">\r\n      <defs>\r\n       <path d=\"M 0 0 \r\nL 0 2 \r\n\" id=\"me1eb88bad9\" style=\"stroke:#000000;stroke-width:0.6;\"/>\r\n      </defs>\r\n      <g>\r\n       <use style=\"stroke:#000000;stroke-width:0.6;\" x=\"26.925\" xlink:href=\"#me1eb88bad9\" y=\"682.236562\"/>\r\n      </g>\r\n     </g>\r\n    </g>\r\n    <g id=\"xtick_13\">\r\n     <g id=\"line2d_13\">\r\n      <g>\r\n       <use style=\"stroke:#000000;stroke-width:0.6;\" x=\"57.361364\" xlink:href=\"#me1eb88bad9\" y=\"682.236562\"/>\r\n      </g>\r\n     </g>\r\n    </g>\r\n    <g id=\"xtick_14\">\r\n     <g id=\"line2d_14\">\r\n      <g>\r\n       <use style=\"stroke:#000000;stroke-width:0.6;\" x=\"87.797727\" xlink:href=\"#me1eb88bad9\" y=\"682.236562\"/>\r\n      </g>\r\n     </g>\r\n    </g>\r\n    <g id=\"xtick_15\">\r\n     <g id=\"line2d_15\">\r\n      <g>\r\n       <use style=\"stroke:#000000;stroke-width:0.6;\" x=\"118.234091\" xlink:href=\"#me1eb88bad9\" y=\"682.236562\"/>\r\n      </g>\r\n     </g>\r\n    </g>\r\n    <g id=\"xtick_16\">\r\n     <g id=\"line2d_16\">\r\n      <g>\r\n       <use style=\"stroke:#000000;stroke-width:0.6;\" x=\"148.670455\" xlink:href=\"#me1eb88bad9\" y=\"682.236562\"/>\r\n      </g>\r\n     </g>\r\n    </g>\r\n    <g id=\"xtick_17\">\r\n     <g id=\"line2d_17\">\r\n      <g>\r\n       <use style=\"stroke:#000000;stroke-width:0.6;\" x=\"179.106818\" xlink:href=\"#me1eb88bad9\" y=\"682.236562\"/>\r\n      </g>\r\n     </g>\r\n    </g>\r\n    <g id=\"xtick_18\">\r\n     <g id=\"line2d_18\">\r\n      <g>\r\n       <use style=\"stroke:#000000;stroke-width:0.6;\" x=\"209.543182\" xlink:href=\"#me1eb88bad9\" y=\"682.236562\"/>\r\n      </g>\r\n     </g>\r\n    </g>\r\n    <g id=\"xtick_19\">\r\n     <g id=\"line2d_19\">\r\n      <g>\r\n       <use style=\"stroke:#000000;stroke-width:0.6;\" x=\"239.979545\" xlink:href=\"#me1eb88bad9\" y=\"682.236562\"/>\r\n      </g>\r\n     </g>\r\n    </g>\r\n    <g id=\"xtick_20\">\r\n     <g id=\"line2d_20\">\r\n      <g>\r\n       <use style=\"stroke:#000000;stroke-width:0.6;\" x=\"270.415909\" xlink:href=\"#me1eb88bad9\" y=\"682.236562\"/>\r\n      </g>\r\n     </g>\r\n    </g>\r\n    <g id=\"xtick_21\">\r\n     <g id=\"line2d_21\">\r\n      <g>\r\n       <use style=\"stroke:#000000;stroke-width:0.6;\" x=\"300.852273\" xlink:href=\"#me1eb88bad9\" y=\"682.236562\"/>\r\n      </g>\r\n     </g>\r\n    </g>\r\n    <g id=\"xtick_22\">\r\n     <g id=\"line2d_22\">\r\n      <g>\r\n       <use style=\"stroke:#000000;stroke-width:0.6;\" x=\"331.288636\" xlink:href=\"#me1eb88bad9\" y=\"682.236562\"/>\r\n      </g>\r\n     </g>\r\n    </g>\r\n    <g id=\"xtick_23\">\r\n     <g id=\"line2d_23\">\r\n      <g>\r\n       <use style=\"stroke:#000000;stroke-width:0.6;\" x=\"361.725\" xlink:href=\"#me1eb88bad9\" y=\"682.236562\"/>\r\n      </g>\r\n     </g>\r\n    </g>\r\n    <g id=\"xtick_24\">\r\n     <g id=\"line2d_24\">\r\n      <g>\r\n       <use style=\"stroke:#000000;stroke-width:0.6;\" x=\"392.161364\" xlink:href=\"#me1eb88bad9\" y=\"682.236562\"/>\r\n      </g>\r\n     </g>\r\n    </g>\r\n    <g id=\"xtick_25\">\r\n     <g id=\"line2d_25\">\r\n      <g>\r\n       <use style=\"stroke:#000000;stroke-width:0.6;\" x=\"422.597727\" xlink:href=\"#me1eb88bad9\" y=\"682.236562\"/>\r\n      </g>\r\n     </g>\r\n    </g>\r\n    <g id=\"xtick_26\">\r\n     <g id=\"line2d_26\">\r\n      <g>\r\n       <use style=\"stroke:#000000;stroke-width:0.6;\" x=\"453.034091\" xlink:href=\"#me1eb88bad9\" y=\"682.236562\"/>\r\n      </g>\r\n     </g>\r\n    </g>\r\n    <g id=\"xtick_27\">\r\n     <g id=\"line2d_27\">\r\n      <g>\r\n       <use style=\"stroke:#000000;stroke-width:0.6;\" x=\"483.470455\" xlink:href=\"#me1eb88bad9\" y=\"682.236562\"/>\r\n      </g>\r\n     </g>\r\n    </g>\r\n    <g id=\"xtick_28\">\r\n     <g id=\"line2d_28\">\r\n      <g>\r\n       <use style=\"stroke:#000000;stroke-width:0.6;\" x=\"513.906818\" xlink:href=\"#me1eb88bad9\" y=\"682.236562\"/>\r\n      </g>\r\n     </g>\r\n    </g>\r\n    <g id=\"xtick_29\">\r\n     <g id=\"line2d_29\">\r\n      <g>\r\n       <use style=\"stroke:#000000;stroke-width:0.6;\" x=\"544.343182\" xlink:href=\"#me1eb88bad9\" y=\"682.236562\"/>\r\n      </g>\r\n     </g>\r\n    </g>\r\n    <g id=\"xtick_30\">\r\n     <g id=\"line2d_30\">\r\n      <g>\r\n       <use style=\"stroke:#000000;stroke-width:0.6;\" x=\"574.779545\" xlink:href=\"#me1eb88bad9\" y=\"682.236562\"/>\r\n      </g>\r\n     </g>\r\n    </g>\r\n    <g id=\"xtick_31\">\r\n     <g id=\"line2d_31\">\r\n      <g>\r\n       <use style=\"stroke:#000000;stroke-width:0.6;\" x=\"605.215909\" xlink:href=\"#me1eb88bad9\" y=\"682.236562\"/>\r\n      </g>\r\n     </g>\r\n    </g>\r\n    <g id=\"xtick_32\">\r\n     <g id=\"line2d_32\">\r\n      <g>\r\n       <use style=\"stroke:#000000;stroke-width:0.6;\" x=\"635.652273\" xlink:href=\"#me1eb88bad9\" y=\"682.236562\"/>\r\n      </g>\r\n     </g>\r\n    </g>\r\n    <g id=\"xtick_33\">\r\n     <g id=\"line2d_33\">\r\n      <g>\r\n       <use style=\"stroke:#000000;stroke-width:0.6;\" x=\"666.088636\" xlink:href=\"#me1eb88bad9\" y=\"682.236562\"/>\r\n      </g>\r\n     </g>\r\n    </g>\r\n    <g id=\"xtick_34\">\r\n     <g id=\"line2d_34\">\r\n      <g>\r\n       <use style=\"stroke:#000000;stroke-width:0.6;\" x=\"696.525\" xlink:href=\"#me1eb88bad9\" y=\"682.236562\"/>\r\n      </g>\r\n     </g>\r\n    </g>\r\n   </g>\r\n   <g id=\"matplotlib.axis_2\">\r\n    <g id=\"ytick_1\">\r\n     <g id=\"line2d_35\">\r\n      <defs>\r\n       <path d=\"M 0 0 \r\nL -3.5 0 \r\n\" id=\"mbf3ed6238c\" style=\"stroke:#000000;stroke-width:0.8;\"/>\r\n      </defs>\r\n      <g>\r\n       <use style=\"stroke:#000000;stroke-width:0.8;\" x=\"26.925\" xlink:href=\"#mbf3ed6238c\" y=\"67.91984\"/>\r\n      </g>\r\n     </g>\r\n     <g id=\"text_12\">\r\n      <!-- 0 -->\r\n      <g transform=\"translate(13.5625 71.719059)scale(0.1 -0.1)\">\r\n       <use xlink:href=\"#DejaVuSans-48\"/>\r\n      </g>\r\n     </g>\r\n    </g>\r\n    <g id=\"ytick_2\">\r\n     <g id=\"line2d_36\">\r\n      <g>\r\n       <use style=\"stroke:#000000;stroke-width:0.8;\" x=\"26.925\" xlink:href=\"#mbf3ed6238c\" y=\"179.284757\"/>\r\n      </g>\r\n     </g>\r\n     <g id=\"text_13\">\r\n      <!-- 2 -->\r\n      <g transform=\"translate(13.5625 183.083976)scale(0.1 -0.1)\">\r\n       <use xlink:href=\"#DejaVuSans-50\"/>\r\n      </g>\r\n     </g>\r\n    </g>\r\n    <g id=\"ytick_3\">\r\n     <g id=\"line2d_37\">\r\n      <g>\r\n       <use style=\"stroke:#000000;stroke-width:0.8;\" x=\"26.925\" xlink:href=\"#mbf3ed6238c\" y=\"290.649674\"/>\r\n      </g>\r\n     </g>\r\n     <g id=\"text_14\">\r\n      <!-- 4 -->\r\n      <g transform=\"translate(13.5625 294.448893)scale(0.1 -0.1)\">\r\n       <use xlink:href=\"#DejaVuSans-52\"/>\r\n      </g>\r\n     </g>\r\n    </g>\r\n    <g id=\"ytick_4\">\r\n     <g id=\"line2d_38\">\r\n      <g>\r\n       <use style=\"stroke:#000000;stroke-width:0.8;\" x=\"26.925\" xlink:href=\"#mbf3ed6238c\" y=\"402.014591\"/>\r\n      </g>\r\n     </g>\r\n     <g id=\"text_15\">\r\n      <!-- 6 -->\r\n      <g transform=\"translate(13.5625 405.813809)scale(0.1 -0.1)\">\r\n       <use xlink:href=\"#DejaVuSans-54\"/>\r\n      </g>\r\n     </g>\r\n    </g>\r\n    <g id=\"ytick_5\">\r\n     <g id=\"line2d_39\">\r\n      <g>\r\n       <use style=\"stroke:#000000;stroke-width:0.8;\" x=\"26.925\" xlink:href=\"#mbf3ed6238c\" y=\"513.379507\"/>\r\n      </g>\r\n     </g>\r\n     <g id=\"text_16\">\r\n      <!-- 8 -->\r\n      <g transform=\"translate(13.5625 517.178726)scale(0.1 -0.1)\">\r\n       <use xlink:href=\"#DejaVuSans-56\"/>\r\n      </g>\r\n     </g>\r\n    </g>\r\n    <g id=\"ytick_6\">\r\n     <g id=\"line2d_40\">\r\n      <g>\r\n       <use style=\"stroke:#000000;stroke-width:0.8;\" x=\"26.925\" xlink:href=\"#mbf3ed6238c\" y=\"624.744424\"/>\r\n      </g>\r\n     </g>\r\n     <g id=\"text_17\">\r\n      <!-- 10 -->\r\n      <g transform=\"translate(7.2 628.543643)scale(0.1 -0.1)\">\r\n       <use xlink:href=\"#DejaVuSans-49\"/>\r\n       <use x=\"63.623047\" xlink:href=\"#DejaVuSans-48\"/>\r\n      </g>\r\n     </g>\r\n    </g>\r\n    <g id=\"ytick_7\">\r\n     <g id=\"line2d_41\">\r\n      <defs>\r\n       <path d=\"M 0 0 \r\nL -2 0 \r\n\" id=\"me91c2a7f0e\" style=\"stroke:#000000;stroke-width:0.6;\"/>\r\n      </defs>\r\n      <g>\r\n       <use style=\"stroke:#000000;stroke-width:0.6;\" x=\"26.925\" xlink:href=\"#me91c2a7f0e\" y=\"67.91984\"/>\r\n      </g>\r\n     </g>\r\n    </g>\r\n    <g id=\"ytick_8\">\r\n     <g id=\"line2d_42\">\r\n      <g>\r\n       <use style=\"stroke:#000000;stroke-width:0.6;\" x=\"26.925\" xlink:href=\"#me91c2a7f0e\" y=\"123.602299\"/>\r\n      </g>\r\n     </g>\r\n    </g>\r\n    <g id=\"ytick_9\">\r\n     <g id=\"line2d_43\">\r\n      <g>\r\n       <use style=\"stroke:#000000;stroke-width:0.6;\" x=\"26.925\" xlink:href=\"#me91c2a7f0e\" y=\"179.284757\"/>\r\n      </g>\r\n     </g>\r\n    </g>\r\n    <g id=\"ytick_10\">\r\n     <g id=\"line2d_44\">\r\n      <g>\r\n       <use style=\"stroke:#000000;stroke-width:0.6;\" x=\"26.925\" xlink:href=\"#me91c2a7f0e\" y=\"234.967216\"/>\r\n      </g>\r\n     </g>\r\n    </g>\r\n    <g id=\"ytick_11\">\r\n     <g id=\"line2d_45\">\r\n      <g>\r\n       <use style=\"stroke:#000000;stroke-width:0.6;\" x=\"26.925\" xlink:href=\"#me91c2a7f0e\" y=\"290.649674\"/>\r\n      </g>\r\n     </g>\r\n    </g>\r\n    <g id=\"ytick_12\">\r\n     <g id=\"line2d_46\">\r\n      <g>\r\n       <use style=\"stroke:#000000;stroke-width:0.6;\" x=\"26.925\" xlink:href=\"#me91c2a7f0e\" y=\"346.332132\"/>\r\n      </g>\r\n     </g>\r\n    </g>\r\n    <g id=\"ytick_13\">\r\n     <g id=\"line2d_47\">\r\n      <g>\r\n       <use style=\"stroke:#000000;stroke-width:0.6;\" x=\"26.925\" xlink:href=\"#me91c2a7f0e\" y=\"402.014591\"/>\r\n      </g>\r\n     </g>\r\n    </g>\r\n    <g id=\"ytick_14\">\r\n     <g id=\"line2d_48\">\r\n      <g>\r\n       <use style=\"stroke:#000000;stroke-width:0.6;\" x=\"26.925\" xlink:href=\"#me91c2a7f0e\" y=\"457.697049\"/>\r\n      </g>\r\n     </g>\r\n    </g>\r\n    <g id=\"ytick_15\">\r\n     <g id=\"line2d_49\">\r\n      <g>\r\n       <use style=\"stroke:#000000;stroke-width:0.6;\" x=\"26.925\" xlink:href=\"#me91c2a7f0e\" y=\"513.379507\"/>\r\n      </g>\r\n     </g>\r\n    </g>\r\n    <g id=\"ytick_16\">\r\n     <g id=\"line2d_50\">\r\n      <g>\r\n       <use style=\"stroke:#000000;stroke-width:0.6;\" x=\"26.925\" xlink:href=\"#me91c2a7f0e\" y=\"569.061966\"/>\r\n      </g>\r\n     </g>\r\n    </g>\r\n    <g id=\"ytick_17\">\r\n     <g id=\"line2d_51\">\r\n      <g>\r\n       <use style=\"stroke:#000000;stroke-width:0.6;\" x=\"26.925\" xlink:href=\"#me91c2a7f0e\" y=\"624.744424\"/>\r\n      </g>\r\n     </g>\r\n    </g>\r\n    <g id=\"ytick_18\">\r\n     <g id=\"line2d_52\">\r\n      <g>\r\n       <use style=\"stroke:#000000;stroke-width:0.6;\" x=\"26.925\" xlink:href=\"#me91c2a7f0e\" y=\"680.426883\"/>\r\n      </g>\r\n     </g>\r\n    </g>\r\n   </g>\r\n   <g id=\"LineCollection_1\">\r\n    <path clip-path=\"url(#p00ff0080fb)\" d=\"M 57.361364 67.91984 \r\nL 666.088636 67.91984 \r\n\" style=\"fill:none;stroke:#808080;stroke-width:1.5;\"/>\r\n   </g>\r\n   <g id=\"LineCollection_2\">\r\n    <path clip-path=\"url(#p00ff0080fb)\" d=\"M 57.361364 179.284757 \r\nL 666.088636 179.284757 \r\n\" style=\"fill:none;stroke:#808080;stroke-width:1.5;\"/>\r\n   </g>\r\n   <g id=\"LineCollection_3\">\r\n    <path clip-path=\"url(#p00ff0080fb)\" d=\"M 57.361364 290.649674 \r\nL 666.088636 290.649674 \r\n\" style=\"fill:none;stroke:#808080;stroke-dasharray:5.55,2.4;stroke-dashoffset:0;stroke-width:1.5;\"/>\r\n   </g>\r\n   <g id=\"LineCollection_4\">\r\n    <path clip-path=\"url(#p00ff0080fb)\" d=\"M 57.361364 346.332132 \r\nL 666.088636 346.332132 \r\n\" style=\"fill:none;stroke:#808080;stroke-width:1.5;\"/>\r\n   </g>\r\n   <g id=\"LineCollection_5\">\r\n    <path clip-path=\"url(#p00ff0080fb)\" d=\"M 57.361364 346.332132 \r\nL 666.088636 346.332132 \r\n\" style=\"fill:none;stroke:#808080;stroke-width:1.5;\"/>\r\n   </g>\r\n   <g id=\"LineCollection_6\">\r\n    <path clip-path=\"url(#p00ff0080fb)\" d=\"M 57.361364 485.538278 \r\nL 666.088636 485.538278 \r\n\" style=\"fill:none;stroke:#808080;stroke-width:1.5;\"/>\r\n   </g>\r\n   <g id=\"LineCollection_7\">\r\n    <path clip-path=\"url(#p00ff0080fb)\" d=\"M 57.361364 652.585653 \r\nL 666.088636 652.585653 \r\n\" style=\"fill:none;stroke:#808080;stroke-width:1.5;\"/>\r\n   </g>\r\n   <g id=\"LineCollection_8\">\r\n    <path clip-path=\"url(#p00ff0080fb)\" d=\"M 361.725 67.91984 \r\nL 361.725 652.585653 \r\n\" style=\"fill:none;stroke:#808080;stroke-dasharray:3.7,1.6;stroke-dashoffset:0;\"/>\r\n   </g>\r\n   <g id=\"LineCollection_9\">\r\n    <path clip-path=\"url(#p00ff0080fb)\" d=\"M 422.597727 151.443528 \r\nL 513.906818 151.443528 \r\n\" style=\"fill:none;stroke:#000000;\"/>\r\n   </g>\r\n   <g id=\"LineCollection_10\">\r\n    <path clip-path=\"url(#p00ff0080fb)\" d=\"M 57.361364 262.808445 \r\nL 666.088636 262.808445 \r\n\" style=\"fill:none;stroke:#ff0000;stroke-dasharray:7.4,3.2;stroke-dashoffset:0;stroke-width:2;\"/>\r\n   </g>\r\n   <g id=\"LineCollection_11\">\r\n    <path clip-path=\"url(#p00ff0080fb)\" d=\"M 507.819545 67.91984 \r\nL 507.819545 262.808445 \r\n\" style=\"fill:none;stroke:#000000;\"/>\r\n   </g>\r\n   <g id=\"LineCollection_12\">\r\n    <path clip-path=\"url(#p00ff0080fb)\" d=\"M 300.852273 151.443528 \r\nL 300.852273 218.262478 \r\n\" style=\"fill:none;stroke:#000000;\"/>\r\n   </g>\r\n   <g id=\"LineCollection_13\">\r\n    <path clip-path=\"url(#p00ff0080fb)\" d=\"M 422.597727 151.443528 \r\nL 422.597727 218.262478 \r\n\" style=\"fill:none;stroke:#000000;\"/>\r\n   </g>\r\n   <g id=\"LineCollection_14\">\r\n    <path clip-path=\"url(#p00ff0080fb)\" d=\"M 300.852273 207.125986 \r\nL 422.597727 207.125986 \r\n\" style=\"fill:none;stroke:#000000;\"/>\r\n   </g>\r\n   <g id=\"line2d_53\">\r\n    <path clip-path=\"url(#p00ff0080fb)\" d=\"M 294.765 213.807881 \r\nL 306.939545 200.444091 \r\n\" style=\"fill:none;stroke:#000000;stroke-linecap:square;stroke-width:1.5;\"/>\r\n   </g>\r\n   <g id=\"line2d_54\">\r\n    <path clip-path=\"url(#p00ff0080fb)\" d=\"M 416.510455 213.807881 \r\nL 428.685 200.444091 \r\n\" style=\"fill:none;stroke:#000000;stroke-linecap:square;stroke-width:1.5;\"/>\r\n   </g>\r\n   <g id=\"line2d_55\">\r\n    <path clip-path=\"url(#p00ff0080fb)\" d=\"M 501.732273 76.272209 \r\nL 513.906818 59.567472 \r\n\" style=\"fill:none;stroke:#000000;stroke-linecap:square;stroke-width:1.5;\"/>\r\n   </g>\r\n   <g id=\"line2d_56\">\r\n    <path clip-path=\"url(#p00ff0080fb)\" d=\"M 501.732273 159.795897 \r\nL 513.906818 143.091159 \r\n\" style=\"fill:none;stroke:#000000;stroke-linecap:square;stroke-width:1.5;\"/>\r\n   </g>\r\n   <g id=\"line2d_57\">\r\n    <path clip-path=\"url(#p00ff0080fb)\" d=\"M 501.732273 271.160813 \r\nL 513.906818 254.456076 \r\n\" style=\"fill:none;stroke:#000000;stroke-linecap:square;stroke-width:1.5;\"/>\r\n   </g>\r\n   <g id=\"line2d_58\">\r\n    <path clip-path=\"url(#p00ff0080fb)\" d=\"M 337.375909 67.91984 \r\nL 337.375909 109.681684 \r\nL 300.852273 109.681684 \r\nL 300.852273 151.443528 \r\nL 422.597727 151.443528 \r\nL 422.597727 109.681684 \r\nL 386.074091 109.681684 \r\nL 386.074091 67.91984 \r\n\" style=\"fill:none;stroke:#000000;stroke-linecap:square;stroke-width:3;\"/>\r\n   </g>\r\n   <g id=\"patch_3\">\r\n    <path d=\"M 26.925 682.236563 \r\nL 26.925 29.916562 \r\n\" style=\"fill:none;stroke:#000000;stroke-linecap:square;stroke-linejoin:miter;stroke-width:0.8;\"/>\r\n   </g>\r\n   <g id=\"patch_4\">\r\n    <path d=\"M 696.525 682.236563 \r\nL 696.525 29.916562 \r\n\" style=\"fill:none;stroke:#000000;stroke-linecap:square;stroke-linejoin:miter;stroke-width:0.8;\"/>\r\n   </g>\r\n   <g id=\"patch_5\">\r\n    <path d=\"M 26.925 682.236562 \r\nL 696.525 682.236562 \r\n\" style=\"fill:none;stroke:#000000;stroke-linecap:square;stroke-linejoin:miter;stroke-width:0.8;\"/>\r\n   </g>\r\n   <g id=\"patch_6\">\r\n    <path d=\"M 26.925 29.916562 \r\nL 696.525 29.916562 \r\n\" style=\"fill:none;stroke:#000000;stroke-linecap:square;stroke-linejoin:miter;stroke-width:0.8;\"/>\r\n   </g>\r\n   <g id=\"text_18\">\r\n    <!-- 4.0 -->\r\n    <defs>\r\n     <path d=\"M 10.6875 12.40625 \r\nL 21 12.40625 \r\nL 21 0 \r\nL 10.6875 0 \r\nz\r\n\" id=\"DejaVuSans-46\"/>\r\n    </defs>\r\n    <g transform=\"translate(361.725 202.67139)scale(0.15 -0.15)\">\r\n     <use xlink:href=\"#DejaVuSans-52\"/>\r\n     <use x=\"63.623047\" xlink:href=\"#DejaVuSans-46\"/>\r\n     <use x=\"95.410156\" xlink:href=\"#DejaVuSans-48\"/>\r\n    </g>\r\n   </g>\r\n   <g id=\"text_19\">\r\n    <!-- 1.5 -->\r\n    <defs>\r\n     <path d=\"M 10.796875 72.90625 \r\nL 49.515625 72.90625 \r\nL 49.515625 64.59375 \r\nL 19.828125 64.59375 \r\nL 19.828125 46.734375 \r\nQ 21.96875 47.46875 24.109375 47.828125 \r\nQ 26.265625 48.1875 28.421875 48.1875 \r\nQ 40.625 48.1875 47.75 41.5 \r\nQ 54.890625 34.8125 54.890625 23.390625 \r\nQ 54.890625 11.625 47.5625 5.09375 \r\nQ 40.234375 -1.421875 26.90625 -1.421875 \r\nQ 22.3125 -1.421875 17.546875 -0.640625 \r\nQ 12.796875 0.140625 7.71875 1.703125 \r\nL 7.71875 11.625 \r\nQ 12.109375 9.234375 16.796875 8.0625 \r\nQ 21.484375 6.890625 26.703125 6.890625 \r\nQ 35.15625 6.890625 40.078125 11.328125 \r\nQ 45.015625 15.765625 45.015625 23.390625 \r\nQ 45.015625 31 40.078125 35.4375 \r\nQ 35.15625 39.890625 26.703125 39.890625 \r\nQ 22.75 39.890625 18.8125 39.015625 \r\nQ 14.890625 38.140625 10.796875 36.28125 \r\nz\r\n\" id=\"DejaVuSans-53\"/>\r\n    </defs>\r\n    <g transform=\"translate(483.964858 109.681684)scale(0.15 -0.15)\">\r\n     <use xlink:href=\"#DejaVuSans-49\"/>\r\n     <use x=\"63.623047\" xlink:href=\"#DejaVuSans-46\"/>\r\n     <use x=\"95.410156\" xlink:href=\"#DejaVuSans-53\"/>\r\n    </g>\r\n   </g>\r\n   <g id=\"text_20\">\r\n    <!-- b/2=2.0 -->\r\n    <defs>\r\n     <path d=\"M 48.6875 27.296875 \r\nQ 48.6875 37.203125 44.609375 42.84375 \r\nQ 40.53125 48.484375 33.40625 48.484375 \r\nQ 26.265625 48.484375 22.1875 42.84375 \r\nQ 18.109375 37.203125 18.109375 27.296875 \r\nQ 18.109375 17.390625 22.1875 11.75 \r\nQ 26.265625 6.109375 33.40625 6.109375 \r\nQ 40.53125 6.109375 44.609375 11.75 \r\nQ 48.6875 17.390625 48.6875 27.296875 \r\nz\r\nM 18.109375 46.390625 \r\nQ 20.953125 51.265625 25.265625 53.625 \r\nQ 29.59375 56 35.59375 56 \r\nQ 45.5625 56 51.78125 48.09375 \r\nQ 58.015625 40.1875 58.015625 27.296875 \r\nQ 58.015625 14.40625 51.78125 6.484375 \r\nQ 45.5625 -1.421875 35.59375 -1.421875 \r\nQ 29.59375 -1.421875 25.265625 0.953125 \r\nQ 20.953125 3.328125 18.109375 8.203125 \r\nL 18.109375 0 \r\nL 9.078125 0 \r\nL 9.078125 75.984375 \r\nL 18.109375 75.984375 \r\nz\r\n\" id=\"DejaVuSans-98\"/>\r\n     <path d=\"M 25.390625 72.90625 \r\nL 33.6875 72.90625 \r\nL 8.296875 -9.28125 \r\nL 0 -9.28125 \r\nz\r\n\" id=\"DejaVuSans-47\"/>\r\n     <path d=\"M 10.59375 45.40625 \r\nL 73.1875 45.40625 \r\nL 73.1875 37.203125 \r\nL 10.59375 37.203125 \r\nz\r\nM 10.59375 25.484375 \r\nL 73.1875 25.484375 \r\nL 73.1875 17.1875 \r\nL 10.59375 17.1875 \r\nz\r\n\" id=\"DejaVuSans-61\"/>\r\n    </defs>\r\n    <g transform=\"translate(447.275795 201.55774)scale(0.15 -0.15)\">\r\n     <use xlink:href=\"#DejaVuSans-98\"/>\r\n     <use x=\"63.476562\" xlink:href=\"#DejaVuSans-47\"/>\r\n     <use x=\"97.167969\" xlink:href=\"#DejaVuSans-50\"/>\r\n     <use x=\"160.791016\" xlink:href=\"#DejaVuSans-61\"/>\r\n     <use x=\"244.580078\" xlink:href=\"#DejaVuSans-50\"/>\r\n     <use x=\"308.203125\" xlink:href=\"#DejaVuSans-46\"/>\r\n     <use x=\"339.990234\" xlink:href=\"#DejaVuSans-48\"/>\r\n    </g>\r\n   </g>\r\n   <g id=\"text_21\">\r\n    <!-- ИГЭ-1 -->\r\n    <defs>\r\n     <path d=\"M 64.984375 72.90625 \r\nL 64.984375 0 \r\nL 55.421875 0 \r\nL 55.421875 60.984375 \r\nL 23.09375 0 \r\nL 9.8125 0 \r\nL 9.8125 72.90625 \r\nL 19.390625 72.90625 \r\nL 19.390625 11.921875 \r\nL 51.703125 72.90625 \r\nz\r\n\" id=\"DejaVuSans-1048\"/>\r\n     <path d=\"M 9.8125 0 \r\nL 9.8125 72.90625 \r\nL 55.171875 72.90625 \r\nL 55.171875 64.59375 \r\nL 19.671875 64.59375 \r\nL 19.671875 0 \r\nz\r\n\" id=\"DejaVuSans-1043\"/>\r\n     <path d=\"M 5.421875 15.921875 \r\nQ 15.71875 6.6875 28.21875 6.6875 \r\nQ 41.109375 6.6875 46.921875 13.625 \r\nQ 52.734375 20.5625 53.8125 32.234375 \r\nL 14.84375 32.234375 \r\nL 14.84375 40.53125 \r\nL 53.8125 40.53125 \r\nQ 52.734375 52.203125 46.921875 59.15625 \r\nQ 41.109375 66.109375 28.21875 66.109375 \r\nQ 15.71875 66.109375 5.421875 56.890625 \r\nL 5.421875 67.28125 \r\nQ 15.578125 74.21875 28.8125 74.21875 \r\nQ 45.171875 74.21875 54.6875 64.078125 \r\nQ 64.203125 53.953125 64.203125 36.421875 \r\nQ 64.203125 18.84375 54.6875 8.703125 \r\nQ 45.171875 -1.421875 28.8125 -1.421875 \r\nQ 15.765625 -1.421875 5.421875 5.609375 \r\nz\r\n\" id=\"DejaVuSans-1069\"/>\r\n     <path d=\"M 4.890625 31.390625 \r\nL 31.203125 31.390625 \r\nL 31.203125 23.390625 \r\nL 4.890625 23.390625 \r\nz\r\n\" id=\"DejaVuSans-45\"/>\r\n    </defs>\r\n    <g transform=\"translate(57.361364 123.602299)scale(0.15 -0.15)\">\r\n     <use xlink:href=\"#DejaVuSans-1048\"/>\r\n     <use x=\"74.804688\" xlink:href=\"#DejaVuSans-1043\"/>\r\n     <use x=\"135.791016\" xlink:href=\"#DejaVuSans-1069\"/>\r\n     <use x=\"205.615234\" xlink:href=\"#DejaVuSans-45\"/>\r\n     <use x=\"241.699219\" xlink:href=\"#DejaVuSans-49\"/>\r\n    </g>\r\n   </g>\r\n   <g id=\"text_22\">\r\n    <!-- ИГЭ-2 -->\r\n    <g transform=\"translate(57.361364 234.967216)scale(0.15 -0.15)\">\r\n     <use xlink:href=\"#DejaVuSans-1048\"/>\r\n     <use x=\"74.804688\" xlink:href=\"#DejaVuSans-1043\"/>\r\n     <use x=\"135.791016\" xlink:href=\"#DejaVuSans-1069\"/>\r\n     <use x=\"205.615234\" xlink:href=\"#DejaVuSans-45\"/>\r\n     <use x=\"241.699219\" xlink:href=\"#DejaVuSans-50\"/>\r\n    </g>\r\n   </g>\r\n   <g id=\"text_23\">\r\n    <!-- ИГЭ-2 -->\r\n    <g transform=\"translate(57.361364 318.490903)scale(0.15 -0.15)\">\r\n     <use xlink:href=\"#DejaVuSans-1048\"/>\r\n     <use x=\"74.804688\" xlink:href=\"#DejaVuSans-1043\"/>\r\n     <use x=\"135.791016\" xlink:href=\"#DejaVuSans-1069\"/>\r\n     <use x=\"205.615234\" xlink:href=\"#DejaVuSans-45\"/>\r\n     <use x=\"241.699219\" xlink:href=\"#DejaVuSans-50\"/>\r\n    </g>\r\n   </g>\r\n   <g id=\"text_24\">\r\n    <!-- ИГЭ-3 -->\r\n    <defs>\r\n     <path d=\"M 40.578125 39.3125 \r\nQ 47.65625 37.796875 51.625 33 \r\nQ 55.609375 28.21875 55.609375 21.1875 \r\nQ 55.609375 10.40625 48.1875 4.484375 \r\nQ 40.765625 -1.421875 27.09375 -1.421875 \r\nQ 22.515625 -1.421875 17.65625 -0.515625 \r\nQ 12.796875 0.390625 7.625 2.203125 \r\nL 7.625 11.71875 \r\nQ 11.71875 9.328125 16.59375 8.109375 \r\nQ 21.484375 6.890625 26.8125 6.890625 \r\nQ 36.078125 6.890625 40.9375 10.546875 \r\nQ 45.796875 14.203125 45.796875 21.1875 \r\nQ 45.796875 27.640625 41.28125 31.265625 \r\nQ 36.765625 34.90625 28.71875 34.90625 \r\nL 20.21875 34.90625 \r\nL 20.21875 43.015625 \r\nL 29.109375 43.015625 \r\nQ 36.375 43.015625 40.234375 45.921875 \r\nQ 44.09375 48.828125 44.09375 54.296875 \r\nQ 44.09375 59.90625 40.109375 62.90625 \r\nQ 36.140625 65.921875 28.71875 65.921875 \r\nQ 24.65625 65.921875 20.015625 65.03125 \r\nQ 15.375 64.15625 9.8125 62.3125 \r\nL 9.8125 71.09375 \r\nQ 15.4375 72.65625 20.34375 73.4375 \r\nQ 25.25 74.21875 29.59375 74.21875 \r\nQ 40.828125 74.21875 47.359375 69.109375 \r\nQ 53.90625 64.015625 53.90625 55.328125 \r\nQ 53.90625 49.265625 50.4375 45.09375 \r\nQ 46.96875 40.921875 40.578125 39.3125 \r\nz\r\n\" id=\"DejaVuSans-51\"/>\r\n    </defs>\r\n    <g transform=\"translate(57.361364 415.935205)scale(0.15 -0.15)\">\r\n     <use xlink:href=\"#DejaVuSans-1048\"/>\r\n     <use x=\"74.804688\" xlink:href=\"#DejaVuSans-1043\"/>\r\n     <use x=\"135.791016\" xlink:href=\"#DejaVuSans-1069\"/>\r\n     <use x=\"205.615234\" xlink:href=\"#DejaVuSans-45\"/>\r\n     <use x=\"241.699219\" xlink:href=\"#DejaVuSans-51\"/>\r\n    </g>\r\n   </g>\r\n   <g id=\"text_25\">\r\n    <!-- ИГЭ-4 -->\r\n    <g transform=\"translate(57.361364 569.061966)scale(0.15 -0.15)\">\r\n     <use xlink:href=\"#DejaVuSans-1048\"/>\r\n     <use x=\"74.804688\" xlink:href=\"#DejaVuSans-1043\"/>\r\n     <use x=\"135.791016\" xlink:href=\"#DejaVuSans-1069\"/>\r\n     <use x=\"205.615234\" xlink:href=\"#DejaVuSans-45\"/>\r\n     <use x=\"241.699219\" xlink:href=\"#DejaVuSans-52\"/>\r\n    </g>\r\n   </g>\r\n   <g id=\"text_26\">\r\n    <!-- Схема фундамента -->\r\n    <defs>\r\n     <path d=\"M 64.40625 67.28125 \r\nL 64.40625 56.890625 \r\nQ 59.421875 61.53125 53.78125 63.8125 \r\nQ 48.140625 66.109375 41.796875 66.109375 \r\nQ 29.296875 66.109375 22.65625 58.46875 \r\nQ 16.015625 50.828125 16.015625 36.375 \r\nQ 16.015625 21.96875 22.65625 14.328125 \r\nQ 29.296875 6.6875 41.796875 6.6875 \r\nQ 48.140625 6.6875 53.78125 8.984375 \r\nQ 59.421875 11.28125 64.40625 15.921875 \r\nL 64.40625 5.609375 \r\nQ 59.234375 2.09375 53.4375 0.328125 \r\nQ 47.65625 -1.421875 41.21875 -1.421875 \r\nQ 24.65625 -1.421875 15.125 8.703125 \r\nQ 5.609375 18.84375 5.609375 36.375 \r\nQ 5.609375 53.953125 15.125 64.078125 \r\nQ 24.65625 74.21875 41.21875 74.21875 \r\nQ 47.75 74.21875 53.53125 72.484375 \r\nQ 59.328125 70.75 64.40625 67.28125 \r\nz\r\n\" id=\"DejaVuSans-1057\"/>\r\n     <path d=\"M 54.890625 54.6875 \r\nL 35.109375 28.078125 \r\nL 55.90625 0 \r\nL 45.3125 0 \r\nL 29.390625 21.484375 \r\nL 13.484375 0 \r\nL 2.875 0 \r\nL 24.125 28.609375 \r\nL 4.6875 54.6875 \r\nL 15.28125 54.6875 \r\nL 29.78125 35.203125 \r\nL 44.28125 54.6875 \r\nz\r\n\" id=\"DejaVuSans-1093\"/>\r\n     <path d=\"M 56.203125 29.59375 \r\nL 56.203125 25.203125 \r\nL 14.890625 25.203125 \r\nQ 15.484375 15.921875 20.484375 11.0625 \r\nQ 25.484375 6.203125 34.421875 6.203125 \r\nQ 39.59375 6.203125 44.453125 7.46875 \r\nQ 49.3125 8.734375 54.109375 11.28125 \r\nL 54.109375 2.78125 \r\nQ 49.265625 0.734375 44.1875 -0.34375 \r\nQ 39.109375 -1.421875 33.890625 -1.421875 \r\nQ 20.796875 -1.421875 13.15625 6.1875 \r\nQ 5.515625 13.8125 5.515625 26.8125 \r\nQ 5.515625 40.234375 12.765625 48.109375 \r\nQ 20.015625 56 32.328125 56 \r\nQ 43.359375 56 49.78125 48.890625 \r\nQ 56.203125 41.796875 56.203125 29.59375 \r\nz\r\nM 47.21875 32.234375 \r\nQ 47.125 39.59375 43.09375 43.984375 \r\nQ 39.0625 48.390625 32.421875 48.390625 \r\nQ 24.90625 48.390625 20.390625 44.140625 \r\nQ 15.875 39.890625 15.1875 32.171875 \r\nz\r\n\" id=\"DejaVuSans-1077\"/>\r\n     <path d=\"M 9.078125 54.6875 \r\nL 22.21875 54.6875 \r\nL 37.75 18.0625 \r\nL 53.328125 54.6875 \r\nL 66.359375 54.6875 \r\nL 66.359375 0 \r\nL 57.328125 0 \r\nL 57.328125 46.09375 \r\nL 42.234375 10.5 \r\nL 33.25 10.5 \r\nL 18.109375 46.09375 \r\nL 18.109375 0 \r\nL 9.078125 0 \r\nz\r\n\" id=\"DejaVuSans-1084\"/>\r\n     <path d=\"M 34.28125 27.484375 \r\nQ 23.390625 27.484375 19.1875 25 \r\nQ 14.984375 22.515625 14.984375 16.5 \r\nQ 14.984375 11.71875 18.140625 8.90625 \r\nQ 21.296875 6.109375 26.703125 6.109375 \r\nQ 34.1875 6.109375 38.703125 11.40625 \r\nQ 43.21875 16.703125 43.21875 25.484375 \r\nL 43.21875 27.484375 \r\nz\r\nM 52.203125 31.203125 \r\nL 52.203125 0 \r\nL 43.21875 0 \r\nL 43.21875 8.296875 \r\nQ 40.140625 3.328125 35.546875 0.953125 \r\nQ 30.953125 -1.421875 24.3125 -1.421875 \r\nQ 15.921875 -1.421875 10.953125 3.296875 \r\nQ 6 8.015625 6 15.921875 \r\nQ 6 25.140625 12.171875 29.828125 \r\nQ 18.359375 34.515625 30.609375 34.515625 \r\nL 43.21875 34.515625 \r\nL 43.21875 35.40625 \r\nQ 43.21875 41.609375 39.140625 45 \r\nQ 35.0625 48.390625 27.6875 48.390625 \r\nQ 23 48.390625 18.546875 47.265625 \r\nQ 14.109375 46.140625 10.015625 43.890625 \r\nL 10.015625 52.203125 \r\nQ 14.9375 54.109375 19.578125 55.046875 \r\nQ 24.21875 56 28.609375 56 \r\nQ 40.484375 56 46.34375 49.84375 \r\nQ 52.203125 43.703125 52.203125 31.203125 \r\nz\r\n\" id=\"DejaVuSans-1072\"/>\r\n     <path id=\"DejaVuSans-32\"/>\r\n     <path d=\"M 14.796875 27.296875 \r\nQ 14.796875 15.828125 18.328125 10.96875 \r\nQ 21.875 6.109375 27.875 6.109375 \r\nQ 32.671875 6.109375 38.234375 14.3125 \r\nL 38.234375 40.28125 \r\nQ 32.671875 48.484375 27.875 48.484375 \r\nQ 21.875 48.484375 18.328125 43.625 \r\nQ 14.796875 38.765625 14.796875 27.296875 \r\nz\r\nM 38.234375 -20.796875 \r\nL 38.234375 6.984375 \r\nQ 35.453125 2.390625 32.25 0.484375 \r\nQ 29.046875 -1.421875 25 -1.421875 \r\nQ 16.84375 -1.421875 11.15625 6.125 \r\nQ 5.46875 13.671875 5.46875 27.09375 \r\nQ 5.46875 40.53125 11.15625 48.265625 \r\nQ 16.84375 56 25 56 \r\nQ 29.046875 56 32.25 54.140625 \r\nQ 35.453125 52.296875 38.234375 47.703125 \r\nL 38.234375 72.90625 \r\nL 47.265625 72.90625 \r\nL 47.265625 47.703125 \r\nQ 50.046875 52.296875 53.25 54.140625 \r\nQ 56.453125 56 60.5 56 \r\nQ 68.65625 56 74.34375 48.265625 \r\nQ 80.03125 40.53125 80.03125 27.09375 \r\nQ 80.03125 13.671875 74.34375 6.125 \r\nQ 68.65625 -1.421875 60.5 -1.421875 \r\nQ 56.453125 -1.421875 53.25 0.484375 \r\nQ 50.046875 2.390625 47.265625 6.984375 \r\nL 47.265625 -20.796875 \r\nz\r\nM 70.703125 27.296875 \r\nQ 70.703125 38.765625 67.15625 43.625 \r\nQ 63.625 48.484375 57.625 48.484375 \r\nQ 52.828125 48.484375 47.265625 40.28125 \r\nL 47.265625 14.3125 \r\nQ 52.828125 6.109375 57.625 6.109375 \r\nQ 63.625 6.109375 67.15625 10.96875 \r\nQ 70.703125 15.828125 70.703125 27.296875 \r\nz\r\n\" id=\"DejaVuSans-1092\"/>\r\n     <path d=\"M 32.171875 -5.078125 \r\nQ 28.375 -14.84375 24.75 -17.8125 \r\nQ 21.140625 -20.796875 15.09375 -20.796875 \r\nL 7.90625 -20.796875 \r\nL 7.90625 -13.28125 \r\nL 13.1875 -13.28125 \r\nQ 16.890625 -13.28125 18.9375 -11.515625 \r\nQ 21 -9.765625 23.484375 -3.21875 \r\nL 25.09375 0.875 \r\nL 2.984375 54.6875 \r\nL 12.5 54.6875 \r\nL 29.59375 11.921875 \r\nL 46.6875 54.6875 \r\nL 56.203125 54.6875 \r\nz\r\n\" id=\"DejaVuSans-1091\"/>\r\n     <path d=\"M 9.078125 54.6875 \r\nL 18.109375 54.6875 \r\nL 18.109375 32.375 \r\nL 47.265625 32.375 \r\nL 47.265625 54.6875 \r\nL 56.296875 54.6875 \r\nL 56.296875 0 \r\nL 47.265625 0 \r\nL 47.265625 25.203125 \r\nL 18.109375 25.203125 \r\nL 18.109375 0 \r\nL 9.078125 0 \r\nz\r\n\" id=\"DejaVuSans-1085\"/>\r\n     <path d=\"M 21.625 7.171875 \r\nL 47.703125 7.171875 \r\nL 47.703125 47.515625 \r\nL 28.8125 47.515625 \r\nL 28.8125 40.671875 \r\nQ 28.8125 20.5625 23.046875 9.8125 \r\nz\r\nM 8.59375 7.171875 \r\nQ 13.03125 9.125 14.984375 13.28125 \r\nQ 19.78125 23.578125 19.78125 44.34375 \r\nL 19.78125 54.6875 \r\nL 56.734375 54.6875 \r\nL 56.734375 7.171875 \r\nL 63.921875 7.171875 \r\nL 63.921875 -13.8125 \r\nL 56.734375 -13.8125 \r\nL 56.734375 0 \r\nL 12.40625 0 \r\nL 12.40625 -13.8125 \r\nL 5.21875 -13.8125 \r\nL 5.21875 7.171875 \r\nz\r\n\" id=\"DejaVuSans-1076\"/>\r\n     <path d=\"M 2.9375 54.6875 \r\nL 55.328125 54.6875 \r\nL 55.328125 47.515625 \r\nL 33.546875 47.515625 \r\nL 33.546875 0 \r\nL 24.703125 0 \r\nL 24.703125 47.515625 \r\nL 2.9375 47.515625 \r\nz\r\n\" id=\"DejaVuSans-1090\"/>\r\n    </defs>\r\n    <g transform=\"translate(249.370313 23.916562)scale(0.22 -0.22)\">\r\n     <use xlink:href=\"#DejaVuSans-1057\"/>\r\n     <use x=\"69.824219\" xlink:href=\"#DejaVuSans-1093\"/>\r\n     <use x=\"129.003906\" xlink:href=\"#DejaVuSans-1077\"/>\r\n     <use x=\"190.527344\" xlink:href=\"#DejaVuSans-1084\"/>\r\n     <use x=\"265.966797\" xlink:href=\"#DejaVuSans-1072\"/>\r\n     <use x=\"327.246094\" xlink:href=\"#DejaVuSans-32\"/>\r\n     <use x=\"359.033203\" xlink:href=\"#DejaVuSans-1092\"/>\r\n     <use x=\"444.53125\" xlink:href=\"#DejaVuSans-1091\"/>\r\n     <use x=\"503.710938\" xlink:href=\"#DejaVuSans-1085\"/>\r\n     <use x=\"569.091797\" xlink:href=\"#DejaVuSans-1076\"/>\r\n     <use x=\"638.232422\" xlink:href=\"#DejaVuSans-1072\"/>\r\n     <use x=\"699.511719\" xlink:href=\"#DejaVuSans-1084\"/>\r\n     <use x=\"774.951172\" xlink:href=\"#DejaVuSans-1077\"/>\r\n     <use x=\"836.474609\" xlink:href=\"#DejaVuSans-1085\"/>\r\n     <use x=\"901.855469\" xlink:href=\"#DejaVuSans-1090\"/>\r\n     <use x=\"960.107422\" xlink:href=\"#DejaVuSans-1072\"/>\r\n    </g>\r\n   </g>\r\n  </g>\r\n </g>\r\n <defs>\r\n  <clipPath id=\"p00ff0080fb\">\r\n   <rect height=\"652.32\" width=\"669.6\" x=\"26.925\" y=\"29.916562\"/>\r\n  </clipPath>\r\n </defs>\r\n</svg>\r\n",
      "image/png": "[encoded data removed]"
     },
     "metadata": {
      "needs_background": "light"
     }
    }
   ],
   "source": [
    "# Построение схемы фундамента\n",
    "y = [0.*d, 0.5*d, 0.5*d, d, d, 0.5*d, 0.5*d, 0.*d]\n",
    "x = [-0.2*b, -0.2*b, -0.5*b, -0.5*b, 0.5*b, 0.5*b, 0.2*b, 0.2*b]\n",
    "\n",
    "fig, ax = plt.subplots()\n",
    "ax.invert_yaxis()\n",
    "fig.set_figwidth(12)\n",
    "fig.set_figheight(12)\n",
    "\n",
    "import matplotlib.ticker as ticker\n",
    "ax.xaxis.set_major_locator(ticker.MultipleLocator(2))\n",
    "ax.xaxis.set_minor_locator(ticker.MultipleLocator(1))\n",
    "ax.yaxis.set_major_locator(ticker.MultipleLocator(2))\n",
    "ax.yaxis.set_minor_locator(ticker.MultipleLocator(1))\n",
    "\n",
    "x_min = -10.\n",
    "x_max = 10.\n",
    "\n",
    "ax.hlines(Точки[0]['z'], x_min, x_max, color = 'gray')\n",
    "ax.hlines(Точки[1]['z'], x_min, x_max, color = 'gray')\n",
    "ax.hlines(Точки[2]['z'], x_min, x_max, color = 'gray', linestyle = '--')\n",
    "ax.hlines(Точки[3]['z'], x_min, x_max, color = 'gray')\n",
    "ax.hlines(Точки[4]['z'], x_min, x_max, color = 'gray')\n",
    "ax.hlines(Точки[5]['z'], x_min, x_max, color = 'gray')\n",
    "ax.hlines(Точки[6]['z'], x_min, x_max, color = 'gray')\n",
    "ax.vlines(0, Точки[0]['z'], Точки[6]['z'], linewidth = 1., color = 'gray', linestyle = '--')\n",
    "\n",
    "ax.hlines(d, 0.5*b, 0.5*x_max, color = 'black', linewidth = 1.)\n",
    "ax.hlines(d+0.5*b, x_min, x_max, color = 'red', linewidth = 2., linestyle = '--')\n",
    "ax.vlines(0.48*x_max, 0., d+0.5*b, linewidth = 1., color = 'black', linestyle = '-')\n",
    "\n",
    "ax.vlines(-0.5*b, d, d+0.3*b, linewidth = 1., color = 'black', linestyle = '-')\n",
    "ax.vlines(0.5*b, d, d+0.3*b, linewidth = 1., color = 'black', linestyle = '-')\n",
    "ax.hlines(d+0.25*b, -0.5*b, 0.5*b, color = 'black', linewidth = 1., linestyle = '-')\n",
    "ax.text(0, d+0.23*b, b, horizontalalignment = 'left', color = 'black', fontsize = 15)\n",
    "ax.text(b+0.2*b, 0.5*d, d, horizontalalignment = 'right', color = 'black', fontsize = 15)\n",
    "ax.text(b+0.2*b, d+0.6*d, 'b/2='+str(0.5*b), horizontalalignment = 'right', color = 'black', fontsize = 15)\n",
    "\n",
    "ax.text(x_min, 0.5*(Точки[0]['z']+Точки[1]['z']), 'ИГЭ-1', horizontalalignment = 'left', color = 'black', fontsize = 15)\n",
    "ax.text(x_min, 0.5*(Точки[1]['z']+Точки[2]['z']), 'ИГЭ-2', horizontalalignment = 'left', color = 'black', fontsize = 15)\n",
    "ax.text(x_min, 0.5*(Точки[2]['z']+Точки[3]['z']), 'ИГЭ-2', horizontalalignment = 'left', color = 'black', fontsize = 15)\n",
    "ax.text(x_min, 0.5*(Точки[4]['z']+Точки[5]['z']), 'ИГЭ-3', horizontalalignment = 'left', color = 'black', fontsize = 15)\n",
    "ax.text(x_min, 0.5*(Точки[5]['z']+Точки[6]['z']), 'ИГЭ-4', horizontalalignment = 'left', color = 'black', fontsize = 15)\n",
    "\n",
    "# Засечки в размерах\n",
    "arrow_1 = plt.Line2D([-0.5*b-0.2, -0.5*b+0.2], [d+0.28*b, d+0.22*b], color = 'black')\n",
    "ax.add_line(arrow_1)\n",
    "arrow_1 = plt.Line2D([0.5*b-0.2, 0.5*b+0.2], [d+0.28*b, d+0.22*b], color = 'black')\n",
    "ax.add_line(arrow_1)\n",
    "arrow_1 = plt.Line2D([1.2*b-0.2, 1.2*b+0.2], [0.+0.15, 0.-0.15], color = 'black')\n",
    "ax.add_line(arrow_1)\n",
    "arrow_1 = plt.Line2D([1.2*b-0.2, 1.2*b+0.2], [d+0.15, d-0.15], color = 'black')\n",
    "ax.add_line(arrow_1)\n",
    "arrow_1 = plt.Line2D([1.2*b-0.2, 1.2*b+0.2], [d+0.5*b+0.15, d+0.5*b-0.15], color = 'black')\n",
    "ax.add_line(arrow_1)\n",
    "\n",
    "ax.plot(x, y, linestyle = '-', linewidth = 3., color = 'black')\n",
    "\n",
    "plt.title('Схема фундамента', fontsize=22)\n",
    "plt.show()"
   ]
  },
  {
   "cell_type": "markdown",
   "metadata": {},
   "source": [
    "<h2> <font color='blue'> 2.2 Определение коэффициентов по табл. СП 22.13330.2016:  </font> </h2>"
   ]
  },
  {
   "cell_type": "code",
   "execution_count": 10,
   "metadata": {},
   "outputs": [],
   "source": [
    "# По таблице 5.4 СП определяем коэффициенты условий работы gamma_c1, gamma_c2:\n",
    "gamma_c1 = 1.25\n",
    "gamma_c2 = 1.1"
   ]
  },
  {
   "cell_type": "code",
   "execution_count": 11,
   "metadata": {},
   "outputs": [],
   "source": [
    "# По таблице 5.5 СП определяем М_gamma, M_q, M_с. Угол fi принимаем равным 27 градусов\n",
    "М_gamma = 0.91\n",
    "M_q = 4.64\n",
    "M_c = 7.14"
   ]
  },
  {
   "cell_type": "code",
   "execution_count": 12,
   "metadata": {},
   "outputs": [],
   "source": [
    "k = 1.1  # Так как fi определён по табл. прил.А \n",
    "k_z = 1.  #  b < 10 м"
   ]
  },
  {
   "cell_type": "markdown",
   "metadata": {},
   "source": [
    "<h2> <font color='blue'> 2.3 Расчёт сопротивления грунта:  </font> </h2>"
   ]
  },
  {
   "cell_type": "markdown",
   "metadata": {},
   "source": [
    "Формула для определения расчётного сопротивления грунта (без подвала):\n",
    "$$R=\\frac{\\gamma_{c1}\\gamma_{c2}}{k}\\left( M_{\\gamma}k_{z}b\\gamma_{II}+M_{q}d_{1}\\gamma_{II}^{'}+M_{c}c_{II}  \\right)\\;\\;\\;(5.7)$$   "
   ]
  },
  {
   "cell_type": "code",
   "execution_count": 13,
   "metadata": {},
   "outputs": [
    {
     "output_type": "execute_result",
     "data": {
      "text/plain": "20700.0"
     },
     "metadata": {},
     "execution_count": 13
    }
   ],
   "source": [
    "# Осреднённое расчётное значение удельного веса грунтов, залегаюших ниже подошвы фундамента\n",
    "# Согласно п.5.6.10 определяются для слоя толщиной z=b/2 при b<10 м\n",
    "gamma_II = ((ИГЭ[0]['h']-d)*ИГЭ[0]['gamma'] + (0.5*b+d-ИГЭ[0]['h'])*ИГЭ[1]['gamma'])/(0.5*b)\n",
    "gamma_II"
   ]
  },
  {
   "cell_type": "code",
   "execution_count": 14,
   "metadata": {},
   "outputs": [],
   "source": [
    "# Осреднённое расчётное значение удельного веса грунтов, залегаюших выше подошвы фундамента\n",
    "gamma_II_I = ИГЭ[0]['gamma']"
   ]
  },
  {
   "cell_type": "code",
   "execution_count": 15,
   "metadata": {},
   "outputs": [
    {
     "output_type": "execute_result",
     "data": {
      "text/plain": "377670.0"
     },
     "metadata": {},
     "execution_count": 15
    }
   ],
   "source": [
    "R = gamma_c1*gamma_c2/k*(М_gamma*k_z*b*gamma_II + M_q*d*gamma_II_I + M_c*c_II)\n",
    "R  # Н/м2"
   ]
  },
  {
   "cell_type": "code",
   "execution_count": 16,
   "metadata": {},
   "outputs": [
    {
     "output_type": "execute_result",
     "data": {
      "text/plain": "3.7767"
     },
     "metadata": {},
     "execution_count": 16
    }
   ],
   "source": [
    "# Перевод в кгс/см2:\n",
    "R/1.e5"
   ]
  }
 ]
}