{
 "nbformat": 4,
 "nbformat_minor": 2,
 "metadata": {
  "language_info": {
   "name": "python",
   "codemirror_mode": {
    "name": "ipython",
    "version": 3
   },
   "version": "3.7.3-final"
  },
  "orig_nbformat": 2,
  "file_extension": ".py",
  "mimetype": "text/x-python",
  "name": "python",
  "npconvert_exporter": "python",
  "pygments_lexer": "ipython3",
  "version": 3,
  "kernelspec": {
   "name": "python37364bitbaseconda02edb883202042bc8ceb11f92cc2f7c9",
   "display_name": "Python 3.7.3 64-bit ('base': conda)"
  }
 },
 "cells": [
  {
   "cell_type": "markdown",
   "metadata": {},
   "source": [
    "26.02.2020"
   ]
  },
  {
   "cell_type": "markdown",
   "metadata": {},
   "source": [
    "<h3> Тимофеев М.В., ПГС-17 </h3>"
   ]
  },
  {
   "cell_type": "markdown",
   "metadata": {},
   "source": [
    "<h1> Расчёт сжато-изгибаемого деревянного элемента </h1>"
   ]
  },
  {
   "cell_type": "code",
   "execution_count": 279,
   "metadata": {},
   "outputs": [],
   "source": [
    "l = 3.\n",
    "b = 0.1\n",
    "h = 0.2\n",
    "q = 5.e3\n",
    "N = 10.e3\n",
    "E_ср = 11.e9"
   ]
  },
  {
   "cell_type": "markdown",
   "metadata": {},
   "source": [
    "<h3> 1. Геометрические характеристики </h3>"
   ]
  },
  {
   "cell_type": "code",
   "execution_count": 297,
   "metadata": {},
   "outputs": [
    {
     "data": {
      "text/plain": "(6.666666666666668e-05, 0.0005000000000000001, 0.0006666666666666669)"
     },
     "execution_count": 297,
     "metadata": {},
     "output_type": "execute_result"
    }
   ],
   "source": [
    "area = b*h\n",
    "Wz = b*h*h/6.\n",
    "Iz = b*h*h*h/12.\n",
    "Sx = (0.5*h*b)*(0.25*h)\n",
    "Iz, Sx, Wz"
   ]
  },
  {
   "cell_type": "markdown",
   "metadata": {},
   "source": [
    "<h3> 2. Расчёт на прочность </h3>"
   ]
  },
  {
   "cell_type": "markdown",
   "metadata": {},
   "source": [
    "Расчётное сопротивление дерева:"
   ]
  },
  {
   "cell_type": "code",
   "execution_count": 281,
   "metadata": {},
   "outputs": [
    {
     "data": {
      "text/plain": "12.87"
     },
     "execution_count": 281,
     "metadata": {},
     "output_type": "execute_result"
    }
   ],
   "source": [
    "Ra = 19.5e6\n",
    "m_дл = 0.66\n",
    "Rr = Ra*m_дл\n",
    "Rr/1.e6  # МПа"
   ]
  },
  {
   "cell_type": "code",
   "execution_count": 282,
   "metadata": {},
   "outputs": [],
   "source": [
    "Rc = Rr  # Сопротивление сжатию вдоль волокон"
   ]
  },
  {
   "cell_type": "code",
   "execution_count": 283,
   "metadata": {},
   "outputs": [
    {
     "data": {
      "text/plain": "(5625.0, 7500.0)"
     },
     "execution_count": 283,
     "metadata": {},
     "output_type": "execute_result"
    }
   ],
   "source": [
    "Mz = q*l*l/8.\n",
    "Qy = 0.5*q*l\n",
    "Mz, Qy"
   ]
  },
  {
   "cell_type": "code",
   "execution_count": 284,
   "metadata": {},
   "outputs": [
    {
     "data": {
      "text/plain": "50.33557046979866"
     },
     "execution_count": 284,
     "metadata": {},
     "output_type": "execute_result"
    }
   ],
   "source": [
    "mu = 1.\n",
    "l0 = mu*l\n",
    "lambda_0 = l0/(0.298*h)  # При гибкости более 70. Предельная 120\n",
    "lambda_0"
   ]
  },
  {
   "cell_type": "code",
   "execution_count": 285,
   "metadata": {},
   "outputs": [
    {
     "data": {
      "text/plain": "(0.9512733906270995, 5913.126610523481, 0.7973064276383947)"
     },
     "execution_count": 285,
     "metadata": {},
     "output_type": "execute_result"
    }
   ],
   "source": [
    "#A = 3000.\n",
    "alpha = 0.8 \n",
    "fi = 1-alpha*(lambda_0/100.)**2.\n",
    "#fi = A/lambda_0**2.\n",
    "ksi = 1-N/(fi*Rc*area)\n",
    "Mд = Mz/ksi\n",
    "ksi, Mд, fi"
   ]
  },
  {
   "cell_type": "code",
   "execution_count": 286,
   "metadata": {},
   "outputs": [
    {
     "data": {
      "text/plain": "9.36968991578522"
     },
     "execution_count": 286,
     "metadata": {},
     "output_type": "execute_result"
    }
   ],
   "source": [
    "# Нормальные напряжения\n",
    "sigma_n = N/area + Mд/Wz \n",
    "sigma_n/1.e6"
   ]
  },
  {
   "cell_type": "code",
   "execution_count": 287,
   "metadata": {},
   "outputs": [
    {
     "name": "stdout",
     "output_type": "stream",
     "text": "Сечение удовлетворяет критерию прочности по нормальным напряжениям, Кисп = 0.7280256344821461\n"
    }
   ],
   "source": [
    "if sigma_n<=Rr:\n",
    "    print(\"Сечение удовлетворяет критерию прочности по нормальным напряжениям, Кисп =\", sigma_n/Rr )"
   ]
  },
  {
   "cell_type": "markdown",
   "metadata": {},
   "source": [
    " Расчет на прочность по скалыванию:"
   ]
  },
  {
   "cell_type": "code",
   "execution_count": 288,
   "metadata": {},
   "outputs": [],
   "source": [
    "Rs = 2.4e6  # Сопротивление сколу при изгибе\n",
    "# Касательные напряжения\n",
    "e = 0.01  # Эксцентриситет\n",
    "tau = Qy*Sx/(Iz*b) + 0.75*N*e/(b*h**2.)"
   ]
  },
  {
   "cell_type": "code",
   "execution_count": 289,
   "metadata": {},
   "outputs": [
    {
     "name": "stdout",
     "output_type": "stream",
     "text": "Сечение удовлетворяет критерию прочности по касательным напряжениям, Кисп = 0.2421875\n"
    }
   ],
   "source": [
    "if tau<=Rs:\n",
    "    print(\"Сечение удовлетворяет критерию прочности по касательным напряжениям, Кисп =\", tau/Rs)"
   ]
  },
  {
   "cell_type": "markdown",
   "metadata": {},
   "source": [
    "<h3> 3. Расчёт на устойчивость </h3>"
   ]
  },
  {
   "cell_type": "code",
   "execution_count": 290,
   "metadata": {},
   "outputs": [],
   "source": [
    "kф = 1.13\n",
    "n = 2.  #2 - для без закрепления растянутой зоны из плоскости деформирования и 1 если есть закрепления.\n",
    "fi_m = 140.*b*b/(l0*h)*kф\n",
    "K = N/(fi*Rr*area) + (Mд/(fi_m*Rr*Wz))**n"
   ]
  },
  {
   "cell_type": "code",
   "execution_count": 291,
   "metadata": {},
   "outputs": [
    {
     "name": "stdout",
     "output_type": "stream",
     "text": "Устойчивость обеспечена, КЗУ = 8.543588199440169\n"
    }
   ],
   "source": [
    "if K<=1:\n",
    "    print(\"Устойчивость обеспечена, КЗУ =\", 1/K)"
   ]
  },
  {
   "cell_type": "markdown",
   "metadata": {},
   "source": [
    "<h3> 4. Расчёт по перемещениям </h3>"
   ]
  },
  {
   "cell_type": "code",
   "execution_count": 292,
   "metadata": {},
   "outputs": [],
   "source": [
    "m_дл_E = 1.\n",
    "E_r = m_дл_E*E_ср\n",
    "q_н = q/1.2  # Нормативная нагрузка"
   ]
  },
  {
   "cell_type": "code",
   "execution_count": 293,
   "metadata": {},
   "outputs": [
    {
     "data": {
      "text/plain": "0.00629949567882473"
     },
     "execution_count": 293,
     "metadata": {},
     "output_type": "execute_result"
    }
   ],
   "source": [
    "f0 = 5/384*q_н*l**4./(E_r*Iz*ksi)\n",
    "f0"
   ]
  },
  {
   "cell_type": "code",
   "execution_count": 294,
   "metadata": {},
   "outputs": [
    {
     "data": {
      "text/plain": "51.90311418685121"
     },
     "execution_count": 294,
     "metadata": {},
     "output_type": "execute_result"
    }
   ],
   "source": [
    "3/(0.289*0.2)"
   ]
  },
  {
   "cell_type": "code",
   "execution_count": 295,
   "metadata": {},
   "outputs": [
    {
     "data": {
      "text/plain": "0.006837052643417774"
     },
     "execution_count": 295,
     "metadata": {},
     "output_type": "execute_result"
    }
   ],
   "source": [
    "k = 1.\n",
    "Cx = 19.2\n",
    "f = f0/k*(1+Cx*(h/l0)**2.)\n",
    "f"
   ]
  },
  {
   "cell_type": "code",
   "execution_count": 296,
   "metadata": {},
   "outputs": [
    {
     "name": "stdout",
     "output_type": "stream",
     "text": "Проверка по 2-й группе предельных состояний выполнена\n"
    }
   ],
   "source": [
    "if f<=1/150.*l:\n",
    "    print(\"Проверка по 2-й группе предельных состояний выполнена\")"
   ]
  }
 ]
}